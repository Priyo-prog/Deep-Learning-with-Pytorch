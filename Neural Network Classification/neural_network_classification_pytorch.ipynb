{
  "nbformat": 4,
  "nbformat_minor": 0,
  "metadata": {
    "colab": {
      "provenance": [],
      "authorship_tag": "ABX9TyNBnJsoukm1e9xeam2m8B7P",
      "include_colab_link": true
    },
    "kernelspec": {
      "name": "python3",
      "display_name": "Python 3"
    },
    "language_info": {
      "name": "python"
    }
  },
  "cells": [
    {
      "cell_type": "markdown",
      "metadata": {
        "id": "view-in-github",
        "colab_type": "text"
      },
      "source": [
        "<a href=\"https://colab.research.google.com/github/Priyo-prog/Deep-Learning-with-Pytorch/blob/main/Neural%20Network%20Classification/neural_network_classification_pytorch.ipynb\" target=\"_parent\"><img src=\"https://colab.research.google.com/assets/colab-badge.svg\" alt=\"Open In Colab\"/></a>"
      ]
    },
    {
      "cell_type": "markdown",
      "source": [
        "## *PyTorch Neural Network Classification**"
      ],
      "metadata": {
        "id": "_Y0F_VIDexIE"
      }
    },
    {
      "cell_type": "markdown",
      "source": [
        "## **Make classification data**"
      ],
      "metadata": {
        "id": "KDl1qd8ne-e1"
      }
    },
    {
      "cell_type": "code",
      "source": [],
      "metadata": {
        "id": "W-PlFuhBfRCi"
      },
      "execution_count": null,
      "outputs": []
    }
  ]
}