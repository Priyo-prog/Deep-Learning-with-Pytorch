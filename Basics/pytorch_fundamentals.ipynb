{
  "nbformat": 4,
  "nbformat_minor": 0,
  "metadata": {
    "colab": {
      "provenance": [],
      "authorship_tag": "ABX9TyM6IFkxl3MUl8WAxu1hvHcG",
      "include_colab_link": true
    },
    "kernelspec": {
      "name": "python3",
      "display_name": "Python 3"
    },
    "language_info": {
      "name": "python"
    }
  },
  "cells": [
    {
      "cell_type": "markdown",
      "metadata": {
        "id": "view-in-github",
        "colab_type": "text"
      },
      "source": [
        "<a href=\"https://colab.research.google.com/github/Priyo-prog/Deep-Learning-with-Pytorch/blob/main/Basics/pytorch_fundamentals.ipynb\" target=\"_parent\"><img src=\"https://colab.research.google.com/assets/colab-badge.svg\" alt=\"Open In Colab\"/></a>"
      ]
    },
    {
      "cell_type": "markdown",
      "source": [
        "# **Pytorch Fundamentals**"
      ],
      "metadata": {
        "id": "d1p4e3z6o12b"
      }
    },
    {
      "cell_type": "code",
      "source": [
        "import torch\n",
        "import pandas as pd\n",
        "import numpy as np\n",
        "import matplotlib.pyplot as plt\n",
        "print(torch.__version__)"
      ],
      "metadata": {
        "colab": {
          "base_uri": "https://localhost:8080/"
        },
        "id": "Uf1PMEs7pAvF",
        "outputId": "efda220e-c424-43bc-b54b-24ce4f37c5ad"
      },
      "execution_count": 1,
      "outputs": [
        {
          "output_type": "stream",
          "name": "stdout",
          "text": [
            "2.0.1+cu118\n"
          ]
        }
      ]
    },
    {
      "cell_type": "markdown",
      "source": [
        "## **Introductions to Tensors**"
      ],
      "metadata": {
        "id": "LxDMdGdOpXWJ"
      }
    },
    {
      "cell_type": "code",
      "source": [
        "# scalar\n",
        "scalar = torch.tensor(7)\n",
        "scalar"
      ],
      "metadata": {
        "id": "IYDpEIa1qEqs",
        "outputId": "84083351-cddd-4c9b-ab5e-04976a82cfb6",
        "colab": {
          "base_uri": "https://localhost:8080/"
        }
      },
      "execution_count": 2,
      "outputs": [
        {
          "output_type": "execute_result",
          "data": {
            "text/plain": [
              "tensor(7)"
            ]
          },
          "metadata": {},
          "execution_count": 2
        }
      ]
    },
    {
      "cell_type": "code",
      "source": [
        "type(scalar)"
      ],
      "metadata": {
        "id": "L_iBiiuxqXvK",
        "outputId": "bc20f2a1-581d-444c-b000-b0f0b86c1207",
        "colab": {
          "base_uri": "https://localhost:8080/"
        }
      },
      "execution_count": 3,
      "outputs": [
        {
          "output_type": "execute_result",
          "data": {
            "text/plain": [
              "torch.Tensor"
            ]
          },
          "metadata": {},
          "execution_count": 3
        }
      ]
    },
    {
      "cell_type": "code",
      "source": [
        "# check the dimension of the scalar\n",
        "scalar.ndim"
      ],
      "metadata": {
        "id": "KHAqVKGCqbuw",
        "outputId": "f22af2fa-3083-4d96-ccbf-811d31e4c6ef",
        "colab": {
          "base_uri": "https://localhost:8080/"
        }
      },
      "execution_count": 4,
      "outputs": [
        {
          "output_type": "execute_result",
          "data": {
            "text/plain": [
              "0"
            ]
          },
          "metadata": {},
          "execution_count": 4
        }
      ]
    },
    {
      "cell_type": "code",
      "source": [
        "# Check the shape of the scalar\n",
        "scalar.shape"
      ],
      "metadata": {
        "colab": {
          "base_uri": "https://localhost:8080/"
        },
        "id": "g9uGIFZ3CP72",
        "outputId": "2e4ca051-ebaf-4b37-8860-3c0b230ead81"
      },
      "execution_count": 5,
      "outputs": [
        {
          "output_type": "execute_result",
          "data": {
            "text/plain": [
              "torch.Size([])"
            ]
          },
          "metadata": {},
          "execution_count": 5
        }
      ]
    },
    {
      "cell_type": "code",
      "source": [
        "# Get tensor back as Python int\n",
        "scalar.item()"
      ],
      "metadata": {
        "id": "ZavTAxnmqzUD",
        "outputId": "57939e66-e215-4684-a652-32b445dd599a",
        "colab": {
          "base_uri": "https://localhost:8080/"
        }
      },
      "execution_count": 6,
      "outputs": [
        {
          "output_type": "execute_result",
          "data": {
            "text/plain": [
              "7"
            ]
          },
          "metadata": {},
          "execution_count": 6
        }
      ]
    },
    {
      "cell_type": "code",
      "source": [
        "# Vector\n",
        "vector = torch.tensor([7,7])\n",
        "vector"
      ],
      "metadata": {
        "id": "Z8e0Ry4RVMIZ",
        "outputId": "c7869e13-0b89-42eb-c00a-24d78a0ea586",
        "colab": {
          "base_uri": "https://localhost:8080/"
        }
      },
      "execution_count": 7,
      "outputs": [
        {
          "output_type": "execute_result",
          "data": {
            "text/plain": [
              "tensor([7, 7])"
            ]
          },
          "metadata": {},
          "execution_count": 7
        }
      ]
    },
    {
      "cell_type": "code",
      "source": [
        "vector.ndim"
      ],
      "metadata": {
        "id": "8ZggKJKPVymn",
        "outputId": "8ba43825-d1f0-4ac4-d67e-9f5f0c7e688f",
        "colab": {
          "base_uri": "https://localhost:8080/"
        }
      },
      "execution_count": 8,
      "outputs": [
        {
          "output_type": "execute_result",
          "data": {
            "text/plain": [
              "1"
            ]
          },
          "metadata": {},
          "execution_count": 8
        }
      ]
    },
    {
      "cell_type": "code",
      "source": [
        "torch.tensor([[[[[8,8,6], [4,6,8]]], [[[4,8,6], [7,3,8]]]]]).shape"
      ],
      "metadata": {
        "id": "zkm3cTqLV04n",
        "outputId": "086b8de3-8697-40f2-8f4e-5b65903a6c91",
        "colab": {
          "base_uri": "https://localhost:8080/"
        }
      },
      "execution_count": 9,
      "outputs": [
        {
          "output_type": "execute_result",
          "data": {
            "text/plain": [
              "torch.Size([1, 2, 1, 2, 3])"
            ]
          },
          "metadata": {},
          "execution_count": 9
        }
      ]
    },
    {
      "cell_type": "code",
      "source": [
        "torch.tensor([[[[[8,8,6], [4,6,8]]]]]).ndim"
      ],
      "metadata": {
        "id": "D20SoFgHWKoS",
        "outputId": "45b24a33-9842-4026-d977-569c181c569f",
        "colab": {
          "base_uri": "https://localhost:8080/"
        }
      },
      "execution_count": 10,
      "outputs": [
        {
          "output_type": "execute_result",
          "data": {
            "text/plain": [
              "5"
            ]
          },
          "metadata": {},
          "execution_count": 10
        }
      ]
    },
    {
      "cell_type": "code",
      "source": [
        "# Matrix\n",
        "MATRIX = torch.tensor([[4,5],\n",
        "                      [9,10]])\n",
        "MATRIX"
      ],
      "metadata": {
        "id": "Nlb3DzuSWxwi",
        "outputId": "23a295b6-275c-46fc-fa01-99c5ca581986",
        "colab": {
          "base_uri": "https://localhost:8080/"
        }
      },
      "execution_count": 11,
      "outputs": [
        {
          "output_type": "execute_result",
          "data": {
            "text/plain": [
              "tensor([[ 4,  5],\n",
              "        [ 9, 10]])"
            ]
          },
          "metadata": {},
          "execution_count": 11
        }
      ]
    },
    {
      "cell_type": "code",
      "source": [
        "MATRIX.shape"
      ],
      "metadata": {
        "id": "jdm5Q2EDYLmW",
        "outputId": "461fcc7c-976d-4f79-b3d8-1fd05f71ad1a",
        "colab": {
          "base_uri": "https://localhost:8080/"
        }
      },
      "execution_count": 12,
      "outputs": [
        {
          "output_type": "execute_result",
          "data": {
            "text/plain": [
              "torch.Size([2, 2])"
            ]
          },
          "metadata": {},
          "execution_count": 12
        }
      ]
    },
    {
      "cell_type": "code",
      "source": [
        "MATRIX.ndim"
      ],
      "metadata": {
        "id": "COlXfSyvYS8E",
        "outputId": "9b7db2c1-58a2-4bce-a5c5-6e42992fee23",
        "colab": {
          "base_uri": "https://localhost:8080/"
        }
      },
      "execution_count": 13,
      "outputs": [
        {
          "output_type": "execute_result",
          "data": {
            "text/plain": [
              "2"
            ]
          },
          "metadata": {},
          "execution_count": 13
        }
      ]
    },
    {
      "cell_type": "markdown",
      "source": [
        "## **Creating Random Tensors with Pytorch**\n",
        "\n",
        "Why random tensors?\n",
        "\n",
        "Ans: Random tensors are important because the way many neural networks learn is that they start with tensors full of random numbers and then adjust those random numbers to better represent the data.\n",
        "\n",
        "this adjustment is done through backpropagation."
      ],
      "metadata": {
        "id": "ZAma1llqYktI"
      }
    },
    {
      "cell_type": "code",
      "source": [
        "random_tensor = torch.rand(1,3,4)\n",
        "random_tensor"
      ],
      "metadata": {
        "colab": {
          "base_uri": "https://localhost:8080/"
        },
        "id": "uwbVaeoZCC8A",
        "outputId": "0308171e-86d5-4c01-b243-d32e78b33b0a"
      },
      "execution_count": 14,
      "outputs": [
        {
          "output_type": "execute_result",
          "data": {
            "text/plain": [
              "tensor([[[0.0869, 0.3761, 0.5314, 0.7412],\n",
              "         [0.4789, 0.1810, 0.6764, 0.9613],\n",
              "         [0.8406, 0.9591, 0.4228, 0.3556]]])"
            ]
          },
          "metadata": {},
          "execution_count": 14
        }
      ]
    },
    {
      "cell_type": "code",
      "source": [
        "random_tensor.ndim"
      ],
      "metadata": {
        "colab": {
          "base_uri": "https://localhost:8080/"
        },
        "id": "WUWPvA5gDnmK",
        "outputId": "46a28733-0232-4f11-9316-4496198f5299"
      },
      "execution_count": 15,
      "outputs": [
        {
          "output_type": "execute_result",
          "data": {
            "text/plain": [
              "3"
            ]
          },
          "metadata": {},
          "execution_count": 15
        }
      ]
    },
    {
      "cell_type": "code",
      "source": [
        "random_tensor.shape"
      ],
      "metadata": {
        "colab": {
          "base_uri": "https://localhost:8080/"
        },
        "id": "v2xs0fosD-dl",
        "outputId": "b15944c8-18c2-4a6d-f2c4-0e6cabccc3c8"
      },
      "execution_count": 16,
      "outputs": [
        {
          "output_type": "execute_result",
          "data": {
            "text/plain": [
              "torch.Size([1, 3, 4])"
            ]
          },
          "metadata": {},
          "execution_count": 16
        }
      ]
    },
    {
      "cell_type": "markdown",
      "source": [
        "## **Zeros and Ones**"
      ],
      "metadata": {
        "id": "RcWDDAhsEBZN"
      }
    },
    {
      "cell_type": "code",
      "source": [
        "# Create tensor of all zeroes\n",
        "zeros = torch.zeros(size=(3,4))\n",
        "zeros"
      ],
      "metadata": {
        "colab": {
          "base_uri": "https://localhost:8080/"
        },
        "id": "SHz1fR7NF-7X",
        "outputId": "51feca91-c048-4d24-b7db-e0c2e20234d9"
      },
      "execution_count": 17,
      "outputs": [
        {
          "output_type": "execute_result",
          "data": {
            "text/plain": [
              "tensor([[0., 0., 0., 0.],\n",
              "        [0., 0., 0., 0.],\n",
              "        [0., 0., 0., 0.]])"
            ]
          },
          "metadata": {},
          "execution_count": 17
        }
      ]
    },
    {
      "cell_type": "code",
      "source": [
        "zeros.ndim, zeros.shape"
      ],
      "metadata": {
        "colab": {
          "base_uri": "https://localhost:8080/"
        },
        "id": "ZNRHrtqxGUbi",
        "outputId": "e0047627-eb33-46f9-b78c-c07df101a740"
      },
      "execution_count": 18,
      "outputs": [
        {
          "output_type": "execute_result",
          "data": {
            "text/plain": [
              "(2, torch.Size([3, 4]))"
            ]
          },
          "metadata": {},
          "execution_count": 18
        }
      ]
    },
    {
      "cell_type": "code",
      "source": [
        "# Create tensopr of all ones\n",
        "ones = torch.ones(size=(3,4))\n",
        "ones"
      ],
      "metadata": {
        "colab": {
          "base_uri": "https://localhost:8080/"
        },
        "id": "UCWqp7hdGbox",
        "outputId": "38d7936d-566a-4926-fb90-5bbb552e63d0"
      },
      "execution_count": 19,
      "outputs": [
        {
          "output_type": "execute_result",
          "data": {
            "text/plain": [
              "tensor([[1., 1., 1., 1.],\n",
              "        [1., 1., 1., 1.],\n",
              "        [1., 1., 1., 1.]])"
            ]
          },
          "metadata": {},
          "execution_count": 19
        }
      ]
    },
    {
      "cell_type": "markdown",
      "source": [
        "## **Creating range of Tensors and Tensor-like**"
      ],
      "metadata": {
        "id": "TRZ6Uj_HGo2d"
      }
    },
    {
      "cell_type": "code",
      "source": [
        "one_to_ten = torch.arange(start=1,end=11, step=1)\n",
        "one_to_ten"
      ],
      "metadata": {
        "colab": {
          "base_uri": "https://localhost:8080/"
        },
        "id": "3lphBCSLHEmv",
        "outputId": "1fe4dea6-049b-4369-fa8b-bf7e6104cca6"
      },
      "execution_count": 20,
      "outputs": [
        {
          "output_type": "execute_result",
          "data": {
            "text/plain": [
              "tensor([ 1,  2,  3,  4,  5,  6,  7,  8,  9, 10])"
            ]
          },
          "metadata": {},
          "execution_count": 20
        }
      ]
    },
    {
      "cell_type": "code",
      "source": [
        "one_to_ten.ndim, one_to_ten.shape"
      ],
      "metadata": {
        "colab": {
          "base_uri": "https://localhost:8080/"
        },
        "id": "nx9w3He1HLlW",
        "outputId": "dbe172e4-8c0d-4383-bb02-6a054b1a51dc"
      },
      "execution_count": 21,
      "outputs": [
        {
          "output_type": "execute_result",
          "data": {
            "text/plain": [
              "(1, torch.Size([10]))"
            ]
          },
          "metadata": {},
          "execution_count": 21
        }
      ]
    },
    {
      "cell_type": "code",
      "source": [
        "# Create tensors like\n",
        "ten_zeros = torch.zeros_like(input=one_to_ten)\n",
        "ten_zeros"
      ],
      "metadata": {
        "colab": {
          "base_uri": "https://localhost:8080/"
        },
        "id": "EUP_gr3oHXrz",
        "outputId": "dceb1db9-9b74-493d-dfb3-76a772a1e90e"
      },
      "execution_count": 22,
      "outputs": [
        {
          "output_type": "execute_result",
          "data": {
            "text/plain": [
              "tensor([0, 0, 0, 0, 0, 0, 0, 0, 0, 0])"
            ]
          },
          "metadata": {},
          "execution_count": 22
        }
      ]
    },
    {
      "cell_type": "markdown",
      "source": [
        "## **Tensor Datatypes**\n",
        "\n",
        "**Note** : Tensor datatypes is one of the 3 big errors you'll run into with PyTorch and Deep Learning:\n",
        "\n",
        "1. Tensors not right datatype.\n",
        "2. Tensors not right shape.\n",
        "3. Tensors on right device.  "
      ],
      "metadata": {
        "id": "k7yD_GAjIbRU"
      }
    },
    {
      "cell_type": "code",
      "source": [
        "# Float 32 tensor\n",
        "float_32_tensor = torch.tensor([3.0, 6.0, 9.0],\n",
        "                               dtype=None, # what datatype is the tensor\n",
        "                               device=None, # What device is your tensor on\n",
        "                               requires_grad=False # Whether or not to track gradients with this tensors operation\n",
        "                               )\n",
        "float_32_tensor"
      ],
      "metadata": {
        "colab": {
          "base_uri": "https://localhost:8080/"
        },
        "id": "tgLw0ns7XrHc",
        "outputId": "50715060-a3b6-4e34-ba2d-4cdf46abefeb"
      },
      "execution_count": 23,
      "outputs": [
        {
          "output_type": "execute_result",
          "data": {
            "text/plain": [
              "tensor([3., 6., 9.])"
            ]
          },
          "metadata": {},
          "execution_count": 23
        }
      ]
    },
    {
      "cell_type": "code",
      "source": [
        "type(float_32_tensor), float_32_tensor.dtype"
      ],
      "metadata": {
        "colab": {
          "base_uri": "https://localhost:8080/"
        },
        "id": "rGwRCIwkX-Gn",
        "outputId": "37cf8528-4fac-4754-a46c-831bf42268fe"
      },
      "execution_count": 24,
      "outputs": [
        {
          "output_type": "execute_result",
          "data": {
            "text/plain": [
              "(torch.Tensor, torch.float32)"
            ]
          },
          "metadata": {},
          "execution_count": 24
        }
      ]
    },
    {
      "cell_type": "code",
      "source": [
        "float_16_tensor = float_32_tensor.type(torch.float16)\n",
        "float_16_tensor"
      ],
      "metadata": {
        "colab": {
          "base_uri": "https://localhost:8080/"
        },
        "id": "vth_P3RQYEwW",
        "outputId": "cd37474b-8c1c-4b40-a881-72d7e6e2b8ac"
      },
      "execution_count": 25,
      "outputs": [
        {
          "output_type": "execute_result",
          "data": {
            "text/plain": [
              "tensor([3., 6., 9.], dtype=torch.float16)"
            ]
          },
          "metadata": {},
          "execution_count": 25
        }
      ]
    },
    {
      "cell_type": "markdown",
      "source": [
        "## Manipulating Tensors (Tensor operations)\n",
        "\n",
        "Tensor operatiosn include:\n",
        "* Addition\n",
        "* Substraction\n",
        "* Multiplication\n",
        "* Division\n",
        "* Matrix Multiplcation"
      ],
      "metadata": {
        "id": "3Njb7fmqcf8O"
      }
    },
    {
      "cell_type": "code",
      "source": [
        "# Create a Tensor and add 10 to it\n",
        "tensor = torch.tensor([1,2,3])\n",
        "tensor + 10"
      ],
      "metadata": {
        "colab": {
          "base_uri": "https://localhost:8080/"
        },
        "id": "4fHItu2omnnV",
        "outputId": "d3511cb9-0499-4f1e-a2a3-e8f9d0803ca3"
      },
      "execution_count": 26,
      "outputs": [
        {
          "output_type": "execute_result",
          "data": {
            "text/plain": [
              "tensor([11, 12, 13])"
            ]
          },
          "metadata": {},
          "execution_count": 26
        }
      ]
    },
    {
      "cell_type": "code",
      "source": [
        "# Multiply Tensor by 10\n",
        "tensor = tensor * 10\n",
        "tensor"
      ],
      "metadata": {
        "colab": {
          "base_uri": "https://localhost:8080/"
        },
        "id": "eIDsX27umyFr",
        "outputId": "d022bde0-48d7-4a72-956b-096f2a6548ef"
      },
      "execution_count": 27,
      "outputs": [
        {
          "output_type": "execute_result",
          "data": {
            "text/plain": [
              "tensor([10, 20, 30])"
            ]
          },
          "metadata": {},
          "execution_count": 27
        }
      ]
    },
    {
      "cell_type": "code",
      "source": [
        "# Pytorch also has in-built functions\n",
        "torch.mul(tensor,10)"
      ],
      "metadata": {
        "id": "SJp4TzRmnGT_",
        "outputId": "91bbb180-7d3e-4aa3-c7b7-4eb5745fed36",
        "colab": {
          "base_uri": "https://localhost:8080/"
        }
      },
      "execution_count": 28,
      "outputs": [
        {
          "output_type": "execute_result",
          "data": {
            "text/plain": [
              "tensor([100, 200, 300])"
            ]
          },
          "metadata": {},
          "execution_count": 28
        }
      ]
    },
    {
      "cell_type": "markdown",
      "source": [
        "## **Matrix Multiplcation**\n",
        "\n",
        "Two main ways of performing multiplication in  neural networks and deep learning\n",
        "\n",
        "1. Element wise multiplication\n",
        "2. Matrix multiplication (dot product)"
      ],
      "metadata": {
        "id": "gXCz8jVQnyzV"
      }
    },
    {
      "cell_type": "code",
      "source": [
        "# Element wise matrix multiplication\n",
        "torch.matmul(tensor, tensor)"
      ],
      "metadata": {
        "id": "CQVnll0Tn-Q5",
        "outputId": "ee771ce1-6665-41f6-cd79-2559a0a08a0a",
        "colab": {
          "base_uri": "https://localhost:8080/"
        }
      },
      "execution_count": 29,
      "outputs": [
        {
          "output_type": "execute_result",
          "data": {
            "text/plain": [
              "tensor(1400)"
            ]
          },
          "metadata": {},
          "execution_count": 29
        }
      ]
    },
    {
      "cell_type": "markdown",
      "source": [
        "**Comparing the time difference if multiplcation donne with loop and using matmul function**"
      ],
      "metadata": {
        "id": "1f9sUMhLpi1L"
      }
    },
    {
      "cell_type": "code",
      "source": [
        "%%time\n",
        "\n",
        "value = 0\n",
        "for i in range(len(tensor)):\n",
        "  value += tensor[i] * tensor[i]\n",
        "print(value)"
      ],
      "metadata": {
        "id": "zZqYU9WCqB5U",
        "outputId": "7e7a624d-c25c-4539-f466-8d0100eacf2d",
        "colab": {
          "base_uri": "https://localhost:8080/"
        }
      },
      "execution_count": 30,
      "outputs": [
        {
          "output_type": "stream",
          "name": "stdout",
          "text": [
            "tensor(1400)\n",
            "CPU times: user 1.54 ms, sys: 0 ns, total: 1.54 ms\n",
            "Wall time: 1.54 ms\n"
          ]
        }
      ]
    },
    {
      "cell_type": "code",
      "source": [
        "%%time\n",
        "torch.matmul(tensor, tensor)"
      ],
      "metadata": {
        "id": "dZq22Mx3qb5O",
        "outputId": "f9f6ac7a-f464-4b86-a0bb-495c9c905270",
        "colab": {
          "base_uri": "https://localhost:8080/"
        }
      },
      "execution_count": 31,
      "outputs": [
        {
          "output_type": "stream",
          "name": "stdout",
          "text": [
            "CPU times: user 1.32 ms, sys: 57 µs, total: 1.37 ms\n",
            "Wall time: 1.3 ms\n"
          ]
        },
        {
          "output_type": "execute_result",
          "data": {
            "text/plain": [
              "tensor(1400)"
            ]
          },
          "metadata": {},
          "execution_count": 31
        }
      ]
    },
    {
      "cell_type": "markdown",
      "source": [
        "## **One of the most common errors in deep learning: shape errors**"
      ],
      "metadata": {
        "id": "hShzPWTyqo9L"
      }
    },
    {
      "cell_type": "code",
      "source": [
        "# Shape for matrix multiplication\n",
        "tensor_a = torch.tensor([[1,2],\n",
        "                         [3,4],\n",
        "                         [5,6]])\n",
        "\n",
        "tensor_b = torch.tensor([[7,10],\n",
        "                         [8,11],\n",
        "                         [9,12]])\n",
        "\n",
        "# torch.mm(tensor_, tensor_b) # torch.mm() is same as torch.matmul()\n",
        "torch.matmul(tensor_a, tensor_b)"
      ],
      "metadata": {
        "id": "7jjGwOZLsnvF",
        "outputId": "ee011173-7c63-4e18-dc27-9d6ef8a39b4e",
        "colab": {
          "base_uri": "https://localhost:8080/",
          "height": 210
        }
      },
      "execution_count": 32,
      "outputs": [
        {
          "output_type": "error",
          "ename": "RuntimeError",
          "evalue": "ignored",
          "traceback": [
            "\u001b[0;31m---------------------------------------------------------------------------\u001b[0m",
            "\u001b[0;31mRuntimeError\u001b[0m                              Traceback (most recent call last)",
            "\u001b[0;32m<ipython-input-32-fc1f6ffce672>\u001b[0m in \u001b[0;36m<cell line: 11>\u001b[0;34m()\u001b[0m\n\u001b[1;32m      9\u001b[0m \u001b[0;34m\u001b[0m\u001b[0m\n\u001b[1;32m     10\u001b[0m \u001b[0;31m# torch.mm(tensor_, tensor_b) # torch.mm() is same as torch.matmul()\u001b[0m\u001b[0;34m\u001b[0m\u001b[0;34m\u001b[0m\u001b[0m\n\u001b[0;32m---> 11\u001b[0;31m \u001b[0mtorch\u001b[0m\u001b[0;34m.\u001b[0m\u001b[0mmatmul\u001b[0m\u001b[0;34m(\u001b[0m\u001b[0mtensor_a\u001b[0m\u001b[0;34m,\u001b[0m \u001b[0mtensor_b\u001b[0m\u001b[0;34m)\u001b[0m\u001b[0;34m\u001b[0m\u001b[0;34m\u001b[0m\u001b[0m\n\u001b[0m",
            "\u001b[0;31mRuntimeError\u001b[0m: mat1 and mat2 shapes cannot be multiplied (3x2 and 3x2)"
          ]
        }
      ]
    },
    {
      "cell_type": "markdown",
      "source": [
        "The above error shows that the shape of the tensors are not matching for the multiplication"
      ],
      "metadata": {
        "id": "f4w33x3YtZDq"
      }
    },
    {
      "cell_type": "code",
      "source": [
        "tensor_a.shape, tensor_b.shape"
      ],
      "metadata": {
        "id": "JsgwBfMqtiOn",
        "outputId": "f317da30-bceb-4c3c-a708-c7c0932da938",
        "colab": {
          "base_uri": "https://localhost:8080/"
        }
      },
      "execution_count": 33,
      "outputs": [
        {
          "output_type": "execute_result",
          "data": {
            "text/plain": [
              "(torch.Size([3, 2]), torch.Size([3, 2]))"
            ]
          },
          "metadata": {},
          "execution_count": 33
        }
      ]
    },
    {
      "cell_type": "markdown",
      "source": [
        "To fix our tensor shape issues, we can manipulate the shape of one of our tensors using a **transpose**.\n",
        "\n",
        "A **transpose** switches the axes or dimensions of a given tensor."
      ],
      "metadata": {
        "id": "P_rOVUsdtmIH"
      }
    },
    {
      "cell_type": "code",
      "source": [
        "tensor_b.T"
      ],
      "metadata": {
        "id": "EJ47FLJruVvs",
        "outputId": "810c6603-62a0-4285-b437-bb0cc4e90bf1",
        "colab": {
          "base_uri": "https://localhost:8080/"
        }
      },
      "execution_count": 34,
      "outputs": [
        {
          "output_type": "execute_result",
          "data": {
            "text/plain": [
              "tensor([[ 7,  8,  9],\n",
              "        [10, 11, 12]])"
            ]
          },
          "metadata": {},
          "execution_count": 34
        }
      ]
    },
    {
      "cell_type": "code",
      "source": [
        "# now let's do the multiplication once again\n",
        "torch.matmul(tensor_a, tensor_b.T)"
      ],
      "metadata": {
        "id": "0aHVhp9tubRz",
        "outputId": "854a934c-af01-4da1-b3a5-523bd5914fd4",
        "colab": {
          "base_uri": "https://localhost:8080/"
        }
      },
      "execution_count": 35,
      "outputs": [
        {
          "output_type": "execute_result",
          "data": {
            "text/plain": [
              "tensor([[ 27,  30,  33],\n",
              "        [ 61,  68,  75],\n",
              "        [ 95, 106, 117]])"
            ]
          },
          "metadata": {},
          "execution_count": 35
        }
      ]
    },
    {
      "cell_type": "markdown",
      "source": [
        "## **Tensor aggregation (mean, max,mean,sum)**"
      ],
      "metadata": {
        "id": "BPhjYjaiuvp-"
      }
    },
    {
      "cell_type": "code",
      "source": [
        "# Create tensor range\n",
        "x = torch.arange(0,100,10)\n",
        "x"
      ],
      "metadata": {
        "id": "5-It6f1UK08l",
        "outputId": "d21246a0-e464-4d95-e96f-73829c8c9bf6",
        "colab": {
          "base_uri": "https://localhost:8080/"
        }
      },
      "execution_count": 36,
      "outputs": [
        {
          "output_type": "execute_result",
          "data": {
            "text/plain": [
              "tensor([ 0, 10, 20, 30, 40, 50, 60, 70, 80, 90])"
            ]
          },
          "metadata": {},
          "execution_count": 36
        }
      ]
    },
    {
      "cell_type": "code",
      "source": [
        "# Find the min, max and mean of the tensor\n",
        "torch.min(x), torch.max(x)"
      ],
      "metadata": {
        "id": "J_QCAm3oMUdh",
        "outputId": "8229cb4f-081b-47c2-a5bc-df460b95d4d6",
        "colab": {
          "base_uri": "https://localhost:8080/"
        }
      },
      "execution_count": 37,
      "outputs": [
        {
          "output_type": "execute_result",
          "data": {
            "text/plain": [
              "(tensor(0), tensor(90))"
            ]
          },
          "metadata": {},
          "execution_count": 37
        }
      ]
    },
    {
      "cell_type": "code",
      "source": [
        "# In case of mean it has to be converted to long number or float\n",
        "torch.mean(x.type(torch.float32))\n"
      ],
      "metadata": {
        "id": "_CJ9YV5UMgYc",
        "outputId": "470893da-ba2e-48bf-ca39-1f5f9676c3d8",
        "colab": {
          "base_uri": "https://localhost:8080/"
        }
      },
      "execution_count": 38,
      "outputs": [
        {
          "output_type": "execute_result",
          "data": {
            "text/plain": [
              "tensor(45.)"
            ]
          },
          "metadata": {},
          "execution_count": 38
        }
      ]
    },
    {
      "cell_type": "code",
      "source": [
        "# find the sum\n",
        "torch.sum(x), x.sum()"
      ],
      "metadata": {
        "id": "pwCJ5GRRMvTr",
        "outputId": "3b384fc2-7f29-4e96-c9ae-8a85c03daf9c",
        "colab": {
          "base_uri": "https://localhost:8080/"
        }
      },
      "execution_count": 39,
      "outputs": [
        {
          "output_type": "execute_result",
          "data": {
            "text/plain": [
              "(tensor(450), tensor(450))"
            ]
          },
          "metadata": {},
          "execution_count": 39
        }
      ]
    },
    {
      "cell_type": "markdown",
      "source": [
        "## **Finding the position min and max**"
      ],
      "metadata": {
        "id": "8usiIDj9NW2q"
      }
    },
    {
      "cell_type": "code",
      "source": [
        "# Find the position in the tensor that has the minimum value with argmin()\n",
        "x.argmin()"
      ],
      "metadata": {
        "id": "hrmJqigVN4yy",
        "outputId": "235612f6-4c33-4f44-a81e-0f2f48c6711b",
        "colab": {
          "base_uri": "https://localhost:8080/"
        }
      },
      "execution_count": 40,
      "outputs": [
        {
          "output_type": "execute_result",
          "data": {
            "text/plain": [
              "tensor(0)"
            ]
          },
          "metadata": {},
          "execution_count": 40
        }
      ]
    },
    {
      "cell_type": "code",
      "source": [
        "# find the position in the tensor that has the maximum value with argmax()\n",
        "x.argmax()"
      ],
      "metadata": {
        "id": "cVdfCFzPOQVV",
        "outputId": "0914f778-5c25-4204-f9bd-1649da505a49",
        "colab": {
          "base_uri": "https://localhost:8080/"
        }
      },
      "execution_count": 41,
      "outputs": [
        {
          "output_type": "execute_result",
          "data": {
            "text/plain": [
              "tensor(9)"
            ]
          },
          "metadata": {},
          "execution_count": 41
        }
      ]
    },
    {
      "cell_type": "code",
      "source": [
        "x[9]"
      ],
      "metadata": {
        "id": "UG5b1TzmOxmt",
        "outputId": "56a8166c-3053-4a3e-f48a-23e2e30cd2ac",
        "colab": {
          "base_uri": "https://localhost:8080/"
        }
      },
      "execution_count": 42,
      "outputs": [
        {
          "output_type": "execute_result",
          "data": {
            "text/plain": [
              "tensor(90)"
            ]
          },
          "metadata": {},
          "execution_count": 42
        }
      ]
    },
    {
      "cell_type": "code",
      "source": [
        "x_matrix = torch.tensor([[2,8,3],\n",
        "                         [15,19,22],\n",
        "                         [42,53,88]])\n",
        "x_matrix.argmax()"
      ],
      "metadata": {
        "id": "PgU0ogm3PNBH",
        "outputId": "ea5a5d97-92e8-4575-f52a-c88313c2ef40",
        "colab": {
          "base_uri": "https://localhost:8080/"
        }
      },
      "execution_count": 43,
      "outputs": [
        {
          "output_type": "execute_result",
          "data": {
            "text/plain": [
              "tensor(8)"
            ]
          },
          "metadata": {},
          "execution_count": 43
        }
      ]
    },
    {
      "cell_type": "code",
      "source": [
        "x_matrix.argmin()"
      ],
      "metadata": {
        "id": "HJSDLxbsP0ae",
        "outputId": "64b08975-373b-47a6-a0f9-a219d752e9d0",
        "colab": {
          "base_uri": "https://localhost:8080/"
        }
      },
      "execution_count": 44,
      "outputs": [
        {
          "output_type": "execute_result",
          "data": {
            "text/plain": [
              "tensor(0)"
            ]
          },
          "metadata": {},
          "execution_count": 44
        }
      ]
    },
    {
      "cell_type": "markdown",
      "source": [
        "## **Reshaping, stacking, squeezing and unsqueezing tensors**\n",
        "\n",
        "* Reshaping - reshapes an input tensor to a defined shape\n",
        "* View - Return a view of an input tensorof certain shape but keep the\n",
        "memory of the original tensor.\n",
        "* Stacking - combine multiple tensors\n",
        "on top of each other (vstack) or side by side (hstack)\n",
        "* Squeeze - removes all 1 imensions from a tensor\n",
        "* Unsqueeze - add a 1 dimension to a target tensor\n",
        "* Permute - Return a view of the input with the dimensions permuted (swapped) in a certain way\n"
      ],
      "metadata": {
        "id": "voxujpJnO7ba"
      }
    },
    {
      "cell_type": "code",
      "source": [
        "# Let'screate a tensor\n",
        "x_float = torch.arange(1., 10.)\n",
        "x_float"
      ],
      "metadata": {
        "id": "dtH9UjOCQnHp",
        "outputId": "b2c46a80-9b19-4c73-b3a3-6836d86ea23b",
        "colab": {
          "base_uri": "https://localhost:8080/"
        }
      },
      "execution_count": 45,
      "outputs": [
        {
          "output_type": "execute_result",
          "data": {
            "text/plain": [
              "tensor([1., 2., 3., 4., 5., 6., 7., 8., 9.])"
            ]
          },
          "metadata": {},
          "execution_count": 45
        }
      ]
    },
    {
      "cell_type": "code",
      "source": [
        "x_float.dim, x_float.shape"
      ],
      "metadata": {
        "id": "F0BZMsYfWgAn",
        "outputId": "cd50ac23-8768-43ab-bba4-6619a49ccc1b",
        "colab": {
          "base_uri": "https://localhost:8080/"
        }
      },
      "execution_count": 46,
      "outputs": [
        {
          "output_type": "execute_result",
          "data": {
            "text/plain": [
              "(<function Tensor.dim>, torch.Size([9]))"
            ]
          },
          "metadata": {},
          "execution_count": 46
        }
      ]
    },
    {
      "cell_type": "code",
      "source": [
        "# Add an extra dimension\n",
        "x_float_reshaped = x_float.reshape(3,3)"
      ],
      "metadata": {
        "id": "gKHwVmjgWoH9"
      },
      "execution_count": 47,
      "outputs": []
    },
    {
      "cell_type": "markdown",
      "source": [
        "To keep in mind that above tensor has 9 elements in it. so we can reshape the element upto such that it;s multiple is 9"
      ],
      "metadata": {
        "id": "5r-KFl39XFuG"
      }
    },
    {
      "cell_type": "code",
      "source": [
        "x_float_reshaped"
      ],
      "metadata": {
        "id": "yOmdG9IhXfGI",
        "outputId": "4cefa14b-3796-437c-d764-c63ffb37812f",
        "colab": {
          "base_uri": "https://localhost:8080/"
        }
      },
      "execution_count": 48,
      "outputs": [
        {
          "output_type": "execute_result",
          "data": {
            "text/plain": [
              "tensor([[1., 2., 3.],\n",
              "        [4., 5., 6.],\n",
              "        [7., 8., 9.]])"
            ]
          },
          "metadata": {},
          "execution_count": 48
        }
      ]
    },
    {
      "cell_type": "code",
      "source": [
        "# Change the view\n",
        "z = x_float_reshaped.view(1,9)\n",
        "z, z.shape"
      ],
      "metadata": {
        "id": "DfUlw1dJXhSI",
        "outputId": "67c748e8-0b19-40fa-de76-5345e1d9ac98",
        "colab": {
          "base_uri": "https://localhost:8080/"
        }
      },
      "execution_count": 50,
      "outputs": [
        {
          "output_type": "execute_result",
          "data": {
            "text/plain": [
              "(tensor([[1., 2., 3., 4., 5., 6., 7., 8., 9.]]), torch.Size([1, 9]))"
            ]
          },
          "metadata": {},
          "execution_count": 50
        }
      ]
    },
    {
      "cell_type": "code",
      "source": [
        "# Changing z changes x_float_reshaped (because the view of a tensor shares the same memory as the original input)\n",
        "z[:, 0] = 5\n",
        "z, x"
      ],
      "metadata": {
        "id": "oG7F-1WoX_di",
        "outputId": "17021dcf-dee1-4b95-a995-cc30632e6162",
        "colab": {
          "base_uri": "https://localhost:8080/"
        }
      },
      "execution_count": 51,
      "outputs": [
        {
          "output_type": "execute_result",
          "data": {
            "text/plain": [
              "(tensor([[5., 2., 3., 4., 5., 6., 7., 8., 9.]]),\n",
              " tensor([ 0, 10, 20, 30, 40, 50, 60, 70, 80, 90]))"
            ]
          },
          "metadata": {},
          "execution_count": 51
        }
      ]
    },
    {
      "cell_type": "code",
      "source": [
        "# Stack tensors on above of each other\n",
        "x_stacked = torch.stack([x,x,x,x], dim=0)\n",
        "x_stacked"
      ],
      "metadata": {
        "id": "K0p8qlGWYhkh",
        "outputId": "b71fdcb6-d58f-4c94-dd23-caffd5714756",
        "colab": {
          "base_uri": "https://localhost:8080/"
        }
      },
      "execution_count": 53,
      "outputs": [
        {
          "output_type": "execute_result",
          "data": {
            "text/plain": [
              "tensor([[ 0, 10, 20, 30, 40, 50, 60, 70, 80, 90],\n",
              "        [ 0, 10, 20, 30, 40, 50, 60, 70, 80, 90],\n",
              "        [ 0, 10, 20, 30, 40, 50, 60, 70, 80, 90],\n",
              "        [ 0, 10, 20, 30, 40, 50, 60, 70, 80, 90]])"
            ]
          },
          "metadata": {},
          "execution_count": 53
        }
      ]
    },
    {
      "cell_type": "code",
      "source": [
        "x_float_reshaped"
      ],
      "metadata": {
        "id": "2qHaFuarZBTK",
        "outputId": "73f60756-29d0-49a2-974f-a4d54af7b7d9",
        "colab": {
          "base_uri": "https://localhost:8080/"
        }
      },
      "execution_count": 54,
      "outputs": [
        {
          "output_type": "execute_result",
          "data": {
            "text/plain": [
              "tensor([[5., 2., 3.],\n",
              "        [4., 5., 6.],\n",
              "        [7., 8., 9.]])"
            ]
          },
          "metadata": {},
          "execution_count": 54
        }
      ]
    },
    {
      "cell_type": "code",
      "source": [
        "x_float_reshaped.shape"
      ],
      "metadata": {
        "id": "Y4clB9vsauDx",
        "outputId": "ca0d328f-f8a3-4adf-ed3f-4c8cfc9a2b18",
        "colab": {
          "base_uri": "https://localhost:8080/"
        }
      },
      "execution_count": 55,
      "outputs": [
        {
          "output_type": "execute_result",
          "data": {
            "text/plain": [
              "torch.Size([3, 3])"
            ]
          },
          "metadata": {},
          "execution_count": 55
        }
      ]
    },
    {
      "cell_type": "code",
      "source": [
        "x_float_reshaped.squeeze()"
      ],
      "metadata": {
        "id": "D_S0jxRSa3zP",
        "outputId": "02127c22-2c92-44a5-f88c-767794599c6b",
        "colab": {
          "base_uri": "https://localhost:8080/"
        }
      },
      "execution_count": 56,
      "outputs": [
        {
          "output_type": "execute_result",
          "data": {
            "text/plain": [
              "tensor([[5., 2., 3.],\n",
              "        [4., 5., 6.],\n",
              "        [7., 8., 9.]])"
            ]
          },
          "metadata": {},
          "execution_count": 56
        }
      ]
    },
    {
      "cell_type": "code",
      "source": [
        "x_float_reshaped.shape"
      ],
      "metadata": {
        "id": "xL7BL2yna8Zu",
        "outputId": "808d857e-d570-4d86-8090-f3fb0f37f44e",
        "colab": {
          "base_uri": "https://localhost:8080/"
        }
      },
      "execution_count": 57,
      "outputs": [
        {
          "output_type": "execute_result",
          "data": {
            "text/plain": [
              "torch.Size([3, 3])"
            ]
          },
          "metadata": {},
          "execution_count": 57
        }
      ]
    },
    {
      "cell_type": "markdown",
      "source": [
        "**squeeze()** method removes all the single dimensions in the tensor.\n",
        "In the above case there is no 1 dimension, therefore nothing is changed"
      ],
      "metadata": {
        "id": "E3WnHli-bDhU"
      }
    },
    {
      "cell_type": "code",
      "source": [
        "x_float_reshaped = x_float_reshaped.reshape(1,9)"
      ],
      "metadata": {
        "id": "x95cdLM8bUwI"
      },
      "execution_count": 61,
      "outputs": []
    },
    {
      "cell_type": "code",
      "source": [
        "x_float_reshaped.squeeze()"
      ],
      "metadata": {
        "id": "1rrjqJlebZ1-",
        "outputId": "45811e70-63aa-4b79-9df9-288cab16c4fc",
        "colab": {
          "base_uri": "https://localhost:8080/"
        }
      },
      "execution_count": 62,
      "outputs": [
        {
          "output_type": "execute_result",
          "data": {
            "text/plain": [
              "tensor([5., 2., 3., 4., 5., 6., 7., 8., 9.])"
            ]
          },
          "metadata": {},
          "execution_count": 62
        }
      ]
    },
    {
      "cell_type": "markdown",
      "source": [
        "In the above case we reshaped the tensor to have a 1 dimension, now when we squeeze the tensor it removes the 1 dimension"
      ],
      "metadata": {
        "id": "XxIMO3UPbfYV"
      }
    },
    {
      "cell_type": "markdown",
      "source": [
        "Let's reshape the above tensor too (3,3) and then check whether **unsqueeze()**\n",
        "adds another dimension or not."
      ],
      "metadata": {
        "id": "Cfp-kjBLbxnx"
      }
    },
    {
      "cell_type": "code",
      "source": [
        "x_float_reshaped = x_float_reshaped.reshape(3,3)\n",
        "x_float_reshaped"
      ],
      "metadata": {
        "id": "vBd07KU_cdBA",
        "outputId": "c93d6f48-2627-4882-907c-ef5de032f5d9",
        "colab": {
          "base_uri": "https://localhost:8080/"
        }
      },
      "execution_count": 71,
      "outputs": [
        {
          "output_type": "execute_result",
          "data": {
            "text/plain": [
              "tensor([[5., 2., 3.],\n",
              "        [4., 5., 6.],\n",
              "        [7., 8., 9.]])"
            ]
          },
          "metadata": {},
          "execution_count": 71
        }
      ]
    },
    {
      "cell_type": "code",
      "source": [
        "x_float_reshaped.unsqueeze(dim=0)"
      ],
      "metadata": {
        "id": "JMMjG66EclL-",
        "outputId": "a8c55f6c-eb6d-43d9-ed0a-d0a268197e49",
        "colab": {
          "base_uri": "https://localhost:8080/"
        }
      },
      "execution_count": 72,
      "outputs": [
        {
          "output_type": "execute_result",
          "data": {
            "text/plain": [
              "tensor([[[5., 2., 3.],\n",
              "         [4., 5., 6.],\n",
              "         [7., 8., 9.]]])"
            ]
          },
          "metadata": {},
          "execution_count": 72
        }
      ]
    },
    {
      "cell_type": "code",
      "source": [],
      "metadata": {
        "id": "3d_5VJxldYIC"
      },
      "execution_count": null,
      "outputs": []
    }
  ]
}