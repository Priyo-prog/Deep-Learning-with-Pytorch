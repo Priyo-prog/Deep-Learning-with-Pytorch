{
  "nbformat": 4,
  "nbformat_minor": 0,
  "metadata": {
    "colab": {
      "provenance": [],
      "authorship_tag": "ABX9TyOx6ai2iFj+979ek/O0ETVF",
      "include_colab_link": true
    },
    "kernelspec": {
      "name": "python3",
      "display_name": "Python 3"
    },
    "language_info": {
      "name": "python"
    }
  },
  "cells": [
    {
      "cell_type": "markdown",
      "metadata": {
        "id": "view-in-github",
        "colab_type": "text"
      },
      "source": [
        "<a href=\"https://colab.research.google.com/github/Priyo-prog/Deep-Learning-with-Pytorch/blob/main/PyTorch%20Workflow/pytorch_workflow.ipynb\" target=\"_parent\"><img src=\"https://colab.research.google.com/assets/colab-badge.svg\" alt=\"Open In Colab\"/></a>"
      ]
    },
    {
      "cell_type": "markdown",
      "source": [
        "# **PyTorch Workflow**\n",
        "\n",
        "Data can be anything\n",
        "\n",
        "* Excel Spreadsheet\n",
        "* Images of anykind\n",
        "* Video (Youtube has lots of data)\n",
        "* Audio like podcast or songs\n",
        "* DNA\n",
        "* Text etc...\n",
        "\n",
        "Machine learning has two primary parts\n",
        "\n",
        "1. Get the data in numerical representations\n",
        "2. Build a model to learn patterns in that numerical representation"
      ],
      "metadata": {
        "id": "c14k1RL8eZCc"
      }
    },
    {
      "cell_type": "markdown",
      "source": [
        "## **Demo with Linear Regression**"
      ],
      "metadata": {
        "id": "mEXJ-rcDeuAt"
      }
    },
    {
      "cell_type": "code",
      "source": [
        "import torch\n",
        "from torch import nn ## nn contains all the bulding blocks for neural network\n",
        "import matplotlib.pyplot as plt"
      ],
      "metadata": {
        "id": "Ez_x-NEzlILf"
      },
      "execution_count": 1,
      "outputs": []
    },
    {
      "cell_type": "code",
      "source": [
        "# Create known parameters\n",
        "weight = 0.7\n",
        "bias = 0.3\n",
        "\n",
        "# Create\n",
        "start = 0\n",
        "end = 1\n",
        "step = 0.02\n",
        "\n",
        "X = torch.arange(start, end, step).unsqueeze(dim=1)\n",
        "y = X * weight + bias\n",
        "\n",
        "X[:10], y[:10]"
      ],
      "metadata": {
        "id": "xsqT5726lfIz",
        "outputId": "01a6253e-e2ad-4a2f-e33c-6d9ce05c8b29",
        "colab": {
          "base_uri": "https://localhost:8080/"
        }
      },
      "execution_count": 2,
      "outputs": [
        {
          "output_type": "execute_result",
          "data": {
            "text/plain": [
              "(tensor([[0.0000],\n",
              "         [0.0200],\n",
              "         [0.0400],\n",
              "         [0.0600],\n",
              "         [0.0800],\n",
              "         [0.1000],\n",
              "         [0.1200],\n",
              "         [0.1400],\n",
              "         [0.1600],\n",
              "         [0.1800]]),\n",
              " tensor([[0.3000],\n",
              "         [0.3140],\n",
              "         [0.3280],\n",
              "         [0.3420],\n",
              "         [0.3560],\n",
              "         [0.3700],\n",
              "         [0.3840],\n",
              "         [0.3980],\n",
              "         [0.4120],\n",
              "         [0.4260]]))"
            ]
          },
          "metadata": {},
          "execution_count": 2
        }
      ]
    },
    {
      "cell_type": "code",
      "source": [
        "len(X), len(y)"
      ],
      "metadata": {
        "id": "D9ivo8qVm-EO",
        "outputId": "974a3c24-8624-45ea-92a3-ec41e12cc0bb",
        "colab": {
          "base_uri": "https://localhost:8080/"
        }
      },
      "execution_count": 3,
      "outputs": [
        {
          "output_type": "execute_result",
          "data": {
            "text/plain": [
              "(50, 50)"
            ]
          },
          "metadata": {},
          "execution_count": 3
        }
      ]
    },
    {
      "cell_type": "markdown",
      "source": [
        "## **Splitting Data in Training and Test Sets**"
      ],
      "metadata": {
        "id": "rz70ud_onp-r"
      }
    },
    {
      "cell_type": "code",
      "source": [
        "# Create a train and test split\n",
        "train_split = int(0.8 * len(X))\n",
        "X_train, y_train = X[0:train_split], y[:train_split]\n",
        "X_test, y_test = X[train_split:], y[train_split:]\n",
        "\n",
        "X_train.shape, X_test.shape"
      ],
      "metadata": {
        "id": "H3KXUpV1PfGS",
        "outputId": "3425717f-9317-4f45-a385-f61036a88fa2",
        "colab": {
          "base_uri": "https://localhost:8080/"
        }
      },
      "execution_count": 4,
      "outputs": [
        {
          "output_type": "execute_result",
          "data": {
            "text/plain": [
              "(torch.Size([40, 1]), torch.Size([10, 1]))"
            ]
          },
          "metadata": {},
          "execution_count": 4
        }
      ]
    },
    {
      "cell_type": "markdown",
      "source": [
        "## **Visualize the data**"
      ],
      "metadata": {
        "id": "zHd6HrDpQtr6"
      }
    },
    {
      "cell_type": "code",
      "source": [
        "def plot_prediction(train_data=X_train,\n",
        "                    train_labels=y_train,\n",
        "                    test_data=X_test,\n",
        "                    test_labels=y_test,\n",
        "                    predictions=None):\n",
        "\n",
        "  \"\"\"\n",
        "  Plots training data, test data and compare predictions\n",
        "  \"\"\"\n",
        "  plt.figure(figsize=(10,7))\n",
        "\n",
        "  # Plot the training data in blue\n",
        "  plt.scatter(train_data, train_labels, c=\"b\", s=6, label=\"Training Data\")\n",
        "\n",
        "  # Plot the testing data in green\n",
        "  plt.scatter(test_data, test_labels, c=\"g\", s=6, label=\"Testing Data\")\n",
        "\n",
        "  if predictions is not None:\n",
        "\n",
        "    plt.scatter(test_data, predictions, color=\"orange\", s=6, label=\"Predictions\")\n",
        "\n",
        "  # Show the legend\n",
        "  plt.legend(prop={\"size\": 14});\n"
      ],
      "metadata": {
        "id": "T0Met2qJRbLN"
      },
      "execution_count": 5,
      "outputs": []
    },
    {
      "cell_type": "code",
      "source": [
        "plot_prediction()"
      ],
      "metadata": {
        "id": "pztnH8mZVGcy",
        "outputId": "af4131f1-901a-42f6-9133-849ade51e677",
        "colab": {
          "base_uri": "https://localhost:8080/",
          "height": 599
        }
      },
      "execution_count": 6,
      "outputs": [
        {
          "output_type": "display_data",
          "data": {
            "text/plain": [
              "<Figure size 1000x700 with 1 Axes>"
            ],
            "image/png": "[encoded data removed]"
          },
          "metadata": {}
        }
      ]
    },
    {
      "cell_type": "markdown",
      "source": [
        "## **Build a Liner Regression Model**"
      ],
      "metadata": {
        "id": "0dFTMgkaVTeW"
      }
    },
    {
      "cell_type": "code",
      "source": [
        "# Create Linear Regression class\n",
        "class LinearRegression(nn.Module):\n",
        "\n",
        "  def __init__(self):\n",
        "    super().__init__()\n",
        "    self.weights = nn.Parameter(torch.randn(\n",
        "                             1, # Starts with a random weight and try to adjust it to the ideal weight\n",
        "                             requires_grad=True,\n",
        "                             dtype=torch.float))\n",
        "    self.bias = nn.Parameter(torch.randn(\n",
        "                            1, # Starts with a random bias and try to adjust it to the ideal bias\n",
        "                            requires_grad=True,\n",
        "                            dtype=torch.float))\n",
        "\n",
        "  # Forward method to define the computation in the model\n",
        "  def forward(self, x: torch.Tensor) -> torch.Tensor:\n",
        "    return self.weights*x + self.bias"
      ],
      "metadata": {
        "id": "2_UuK_BZWHMi"
      },
      "execution_count": 7,
      "outputs": []
    },
    {
      "cell_type": "markdown",
      "source": [
        "## **Checking the contents of our PyTorch model**"
      ],
      "metadata": {
        "id": "ltQP11qOJG0q"
      }
    },
    {
      "cell_type": "code",
      "source": [
        "# Create a random seed\n",
        "torch.manual_seed(42)\n",
        "\n",
        "# Create an instance of the linear regression model\n",
        "model_0 = LinearRegression()\n",
        "\n",
        "list(model_0.parameters())"
      ],
      "metadata": {
        "id": "WGehhCkiiwft",
        "outputId": "477e918c-a4b9-42a9-82e8-0c3de3c052cb",
        "colab": {
          "base_uri": "https://localhost:8080/"
        }
      },
      "execution_count": 8,
      "outputs": [
        {
          "output_type": "execute_result",
          "data": {
            "text/plain": [
              "[Parameter containing:\n",
              " tensor([0.3367], requires_grad=True),\n",
              " Parameter containing:\n",
              " tensor([0.1288], requires_grad=True)]"
            ]
          },
          "metadata": {},
          "execution_count": 8
        }
      ]
    },
    {
      "cell_type": "code",
      "source": [
        "model_0.state_dict()"
      ],
      "metadata": {
        "id": "A8p2m7NukCID",
        "outputId": "99e424c3-96f8-40c2-bf2e-34bfedc1adb8",
        "colab": {
          "base_uri": "https://localhost:8080/"
        }
      },
      "execution_count": 9,
      "outputs": [
        {
          "output_type": "execute_result",
          "data": {
            "text/plain": [
              "OrderedDict([('weights', tensor([0.3367])), ('bias', tensor([0.1288]))])"
            ]
          },
          "metadata": {},
          "execution_count": 9
        }
      ]
    },
    {
      "cell_type": "markdown",
      "source": [
        "## **Making Predictions using torch.inference_model()**\n",
        "\n",
        "To check our model's predictive power, let's see how well it predicts y_test based on X_test.\n",
        "\n",
        "When we pass data through our model, it's going to run it through forward() method"
      ],
      "metadata": {
        "id": "hOALn7pvkKKh"
      }
    },
    {
      "cell_type": "code",
      "source": [
        "# Make predictions with model\n",
        "with torch.inference_mode():\n",
        "  y_pred = model_0(X_test)\n",
        "\n",
        "y_pred"
      ],
      "metadata": {
        "id": "ez8yzfeElMko",
        "outputId": "be8fc508-dd34-47d2-b8ab-f490a3b0851a",
        "colab": {
          "base_uri": "https://localhost:8080/"
        }
      },
      "execution_count": 10,
      "outputs": [
        {
          "output_type": "execute_result",
          "data": {
            "text/plain": [
              "tensor([[0.3982],\n",
              "        [0.4049],\n",
              "        [0.4116],\n",
              "        [0.4184],\n",
              "        [0.4251],\n",
              "        [0.4318],\n",
              "        [0.4386],\n",
              "        [0.4453],\n",
              "        [0.4520],\n",
              "        [0.4588]])"
            ]
          },
          "metadata": {},
          "execution_count": 10
        }
      ]
    },
    {
      "cell_type": "code",
      "source": [
        "plot_prediction(predictions=y_pred)"
      ],
      "metadata": {
        "id": "DHgduhJEmPjT",
        "outputId": "dc8bd84a-10c2-4a42-d716-8f371edb9fa5",
        "colab": {
          "base_uri": "https://localhost:8080/",
          "height": 599
        }
      },
      "execution_count": 11,
      "outputs": [
        {
          "output_type": "display_data",
          "data": {
            "text/plain": [
              "<Figure size 1000x700 with 1 Axes>"
            ],
            "image/png": "[encoded data removed]"
          },
          "metadata": {}
        }
      ]
    },
    {
      "cell_type": "markdown",
      "source": [
        "## **Train Model**\n",
        "\n",
        "The whole idea of training is for a model to move from some unknown parameters (these my be random) to some known parameters.\n",
        "\n",
        "Or in other words from a poor representation of the data to a better representation of the data.\n",
        "\n",
        "One way to measure how poor or how wrong models predictions are is to use a loss function.\n",
        "\n",
        "**Note** : Loss function may also be called cost function or criterion in different areas.\n",
        "\n",
        "Things we need to train:\n",
        "\n",
        "**Loss Function** : A function to measure how wrong your model's predictions are to the ideal outputs, lower is better.\n",
        "\n",
        "**Optimizer** : Takes into account the loss of a model and adjust the model's parameters (weights & bias)"
      ],
      "metadata": {
        "id": "QrU0uuEpm7Ep"
      }
    },
    {
      "cell_type": "code",
      "source": [
        "# Set up a loss function\n",
        "loss_fn = nn.L1Loss()\n",
        "\n",
        "# Setup a optimizer\n",
        "optimizer = torch.optim.SGD(params=model_0.parameters(),\n",
        "                            lr = 0.01) # Learning rate"
      ],
      "metadata": {
        "id": "XgMdKgI-oWrk"
      },
      "execution_count": 12,
      "outputs": []
    },
    {
      "cell_type": "markdown",
      "source": [
        "## **Building A Training Loop And A Testing Loop in PyTorch**\n",
        "\n",
        "Requirements in atraining loop\n",
        "\n",
        "1. Loop through the data\n",
        "2. Forward pass (this involves data moving through our model's forward() functions) to make predictions on data - also called forward propagation\n",
        "3. Calculate the loss (compare forward predictions to ground truth labels)\n",
        "4. Optimizer zero grad\n",
        "5. Loss backward - move backwards through the network to calculate the gradients of each of the parameters of our model with respect to the loss ( **backpropagation** ).\n",
        "6. Optimizer step - use the optimizer to adjust our model's parameters to try and improve the loss ( **gradient descent** )"
      ],
      "metadata": {
        "id": "ABzBErNhQr98"
      }
    },
    {
      "cell_type": "code",
      "source": [
        "# An epoch is 1 loop in the data\n",
        "epochs = 200\n",
        "\n",
        "# Create empty loss lists to track values\n",
        "train_loss_values = []\n",
        "test_loss_values = []\n",
        "epoch_count = []\n",
        "\n",
        "# loop through the data\n",
        "for epoch in range(epochs):\n",
        "  # Set the modelto training mode\n",
        "  model_0.train() # train mode in PyTorch sets all parameters that require gradients\n",
        "\n",
        "  # 1. Forward pass\n",
        "  y_pred = model_0(X_train)\n",
        "\n",
        "  # 2. Calculate the loss\n",
        "  loss = loss_fn(y_pred, y_train)\n",
        "  print(f\"Loss : {loss}\")\n",
        "\n",
        "  # 3. Optimizer zero grad\n",
        "  optimizer.zero_grad()\n",
        "\n",
        "  # 4. Perform backpropagation on the loss with respect to the parameters of the model\n",
        "  loss.backward()\n",
        "\n",
        "  # 5. Step the optimizer (gradient descent)\n",
        "  optimizer.step()\n",
        "\n",
        "  model_0.eval() # turns off gradient tracking\n",
        "\n",
        "  with torch.inference_mode():\n",
        "      # 1. Forward pass on test data\n",
        "      test_pred = model_0(X_test)\n",
        "\n",
        "      # 2. Caculate loss on test data\n",
        "      test_loss = loss_fn(test_pred, y_test.type(torch.float)) # predictions come in torch.float datatype, so comparisons need to be done with tensors of the same type\n",
        "\n",
        "      # Print out what's happening\n",
        "      if epoch % 10 == 0:\n",
        "            epoch_count.append(epoch)\n",
        "            train_loss_values.append(loss.detach().numpy())\n",
        "            test_loss_values.append(test_loss.detach().numpy())\n",
        "            print(f\"Epoch: {epoch} | MAE Train Loss: {loss} | MAE Test Loss: {test_loss} \")"
      ],
      "metadata": {
        "id": "i5XDNEFGSQM9",
        "outputId": "ad53feee-7155-4b55-b1ca-5dd13a5f06e8",
        "colab": {
          "base_uri": "https://localhost:8080/"
        }
      },
      "execution_count": 13,
      "outputs": [
        {
          "output_type": "stream",
          "name": "stdout",
          "text": [
            "Loss : 0.31288138031959534\n",
            "Epoch: 0 | MAE Train Loss: 0.31288138031959534 | MAE Test Loss: 0.48106518387794495 \n",
            "Loss : 0.3013603389263153\n",
            "Loss : 0.28983935713768005\n",
            "Loss : 0.2783183455467224\n",
            "Loss : 0.26679736375808716\n",
            "Loss : 0.2552763521671295\n",
            "Loss : 0.24375534057617188\n",
            "Loss : 0.23223432898521423\n",
            "Loss : 0.22071333229541779\n",
            "Loss : 0.20919232070446014\n",
            "Loss : 0.1976713240146637\n",
            "Epoch: 10 | MAE Train Loss: 0.1976713240146637 | MAE Test Loss: 0.3463551998138428 \n",
            "Loss : 0.18615034222602844\n",
            "Loss : 0.1746293306350708\n",
            "Loss : 0.16310831904411316\n",
            "Loss : 0.1515873372554779\n",
            "Loss : 0.14006635546684265\n",
            "Loss : 0.1285453587770462\n",
            "Loss : 0.11702437698841095\n",
            "Loss : 0.1060912236571312\n",
            "Loss : 0.09681284427642822\n",
            "Loss : 0.08908725529909134\n",
            "Epoch: 20 | MAE Train Loss: 0.08908725529909134 | MAE Test Loss: 0.21729660034179688 \n",
            "Loss : 0.08227583020925522\n",
            "Loss : 0.07638873159885406\n",
            "Loss : 0.07160007208585739\n",
            "Loss : 0.06747635453939438\n",
            "Loss : 0.06395438313484192\n",
            "Loss : 0.06097004935145378\n",
            "Loss : 0.05845819041132927\n",
            "Loss : 0.05635259300470352\n",
            "Loss : 0.0545857772231102\n",
            "Loss : 0.053148526698350906\n",
            "Epoch: 30 | MAE Train Loss: 0.053148526698350906 | MAE Test Loss: 0.14464017748832703 \n",
            "Loss : 0.05181945487856865\n",
            "Loss : 0.05069301277399063\n",
            "Loss : 0.0498228520154953\n",
            "Loss : 0.04895269125699997\n",
            "Loss : 0.04819351062178612\n",
            "Loss : 0.047531817108392715\n",
            "Loss : 0.04692792519927025\n",
            "Loss : 0.04642331600189209\n",
            "Loss : 0.04591871052980423\n",
            "Loss : 0.04543796554207802\n",
            "Epoch: 40 | MAE Train Loss: 0.04543796554207802 | MAE Test Loss: 0.11360953003168106 \n",
            "Loss : 0.04503796249628067\n",
            "Loss : 0.04463795945048332\n",
            "Loss : 0.04423796385526657\n",
            "Loss : 0.04383796453475952\n",
            "Loss : 0.04343796148896217\n",
            "Loss : 0.043074630200862885\n",
            "Loss : 0.04272563382983208\n",
            "Loss : 0.04237663000822067\n",
            "Loss : 0.04202762991189957\n",
            "Loss : 0.04167863354086876\n",
            "Epoch: 50 | MAE Train Loss: 0.04167863354086876 | MAE Test Loss: 0.09919948130846024 \n",
            "Loss : 0.04132963344454765\n",
            "Loss : 0.04098063334822655\n",
            "Loss : 0.04063162952661514\n",
            "Loss : 0.040282636880874634\n",
            "Loss : 0.039933640509843826\n",
            "Loss : 0.03958464413881302\n",
            "Loss : 0.03923564404249191\n",
            "Loss : 0.03888664394617081\n",
            "Loss : 0.0385376438498497\n",
            "Loss : 0.03818932920694351\n",
            "Epoch: 60 | MAE Train Loss: 0.03818932920694351 | MAE Test Loss: 0.08886633068323135 \n",
            "Loss : 0.03785243630409241\n",
            "Loss : 0.0375034399330616\n",
            "Loss : 0.037164121866226196\n",
            "Loss : 0.03681822493672371\n",
            "Loss : 0.03647511452436447\n",
            "Loss : 0.03613303601741791\n",
            "Loss : 0.03578609973192215\n",
            "Loss : 0.03544783592224121\n",
            "Loss : 0.035098835825920105\n",
            "Loss : 0.03476089984178543\n",
            "Epoch: 70 | MAE Train Loss: 0.03476089984178543 | MAE Test Loss: 0.0805937647819519 \n",
            "Loss : 0.03441363573074341\n",
            "Loss : 0.03407188132405281\n",
            "Loss : 0.03372843936085701\n",
            "Loss : 0.03338287025690079\n",
            "Loss : 0.033043231815099716\n",
            "Loss : 0.03269423171877861\n",
            "Loss : 0.032357655465602875\n",
            "Loss : 0.03200903534889221\n",
            "Loss : 0.03166864812374115\n",
            "Loss : 0.03132382780313492\n",
            "Epoch: 80 | MAE Train Loss: 0.03132382780313492 | MAE Test Loss: 0.07232122868299484 \n",
            "Loss : 0.030979642644524574\n",
            "Loss : 0.030638623982667923\n",
            "Loss : 0.0302906334400177\n",
            "Loss : 0.029953425750136375\n",
            "Loss : 0.02960442565381527\n",
            "Loss : 0.029265418648719788\n",
            "Loss : 0.028919223695993423\n",
            "Loss : 0.028576409444212914\n",
            "Loss : 0.028234025463461876\n",
            "Loss : 0.02788739837706089\n",
            "Epoch: 90 | MAE Train Loss: 0.02788739837706089 | MAE Test Loss: 0.06473556160926819 \n",
            "Loss : 0.02754882536828518\n",
            "Loss : 0.027199819684028625\n",
            "Loss : 0.026862185448408127\n",
            "Loss : 0.02651461586356163\n",
            "Loss : 0.026173178106546402\n",
            "Loss : 0.025829419493675232\n",
            "Loss : 0.02548416517674923\n",
            "Loss : 0.025144213810563087\n",
            "Loss : 0.02479521557688713\n",
            "Loss : 0.024458957836031914\n",
            "Epoch: 100 | MAE Train Loss: 0.024458957836031914 | MAE Test Loss: 0.05646304413676262 \n",
            "Loss : 0.024110013619065285\n",
            "Loss : 0.02376994863152504\n",
            "Loss : 0.02342480979859829\n",
            "Loss : 0.023080935701727867\n",
            "Loss : 0.022739607840776443\n",
            "Loss : 0.022391926497220993\n",
            "Loss : 0.022054409608244896\n",
            "Loss : 0.02170540764927864\n",
            "Loss : 0.021366719156503677\n",
            "Loss : 0.021020207554101944\n",
            "Epoch: 110 | MAE Train Loss: 0.021020207554101944 | MAE Test Loss: 0.04819049686193466 \n",
            "Loss : 0.020677709951996803\n",
            "Loss : 0.02033500373363495\n",
            "Loss : 0.01998869702219963\n",
            "Loss : 0.019649803638458252\n",
            "Loss : 0.019300809130072594\n",
            "Loss : 0.018963487818837166\n",
            "Loss : 0.01861560344696045\n",
            "Loss : 0.018274478614330292\n",
            "Loss : 0.017930403351783752\n",
            "Loss : 0.01758546568453312\n",
            "Epoch: 120 | MAE Train Loss: 0.01758546568453312 | MAE Test Loss: 0.04060482233762741 \n",
            "Loss : 0.017245199531316757\n",
            "Loss : 0.016896454617381096\n",
            "Loss : 0.01656000316143036\n",
            "Loss : 0.016210997477173805\n",
            "Loss : 0.01587124727666378\n",
            "Loss : 0.015525798313319683\n",
            "Loss : 0.015182236209511757\n",
            "Loss : 0.014840595424175262\n",
            "Loss : 0.01449323259294033\n",
            "Loss : 0.014155393466353416\n",
            "Epoch: 130 | MAE Train Loss: 0.014155393466353416 | MAE Test Loss: 0.03233227878808975 \n",
            "Loss : 0.013806397095322609\n",
            "Loss : 0.013468016870319843\n",
            "Loss : 0.013121193274855614\n",
            "Loss : 0.01277900766581297\n",
            "Loss : 0.012435992248356342\n",
            "Loss : 0.01208999752998352\n",
            "Loss : 0.011750795878469944\n",
            "Loss : 0.011401787400245667\n",
            "Loss : 0.011064787395298481\n",
            "Loss : 0.010716589167714119\n",
            "Epoch: 140 | MAE Train Loss: 0.010716589167714119 | MAE Test Loss: 0.024059748277068138 \n",
            "Loss : 0.010375778190791607\n",
            "Loss : 0.010031387209892273\n",
            "Loss : 0.009686763398349285\n",
            "Loss : 0.009346187114715576\n",
            "Loss : 0.008997755125164986\n",
            "Loss : 0.008660981431603432\n",
            "Loss : 0.008311985060572624\n",
            "Loss : 0.007972544990479946\n",
            "Loss : 0.007626785431057215\n",
            "Loss : 0.0072835334576666355\n",
            "Epoch: 150 | MAE Train Loss: 0.0072835334576666355 | MAE Test Loss: 0.016474086791276932 \n",
            "Loss : 0.006941580679267645\n",
            "Loss : 0.006594526115804911\n",
            "Loss : 0.006256377790123224\n",
            "Loss : 0.005907376762479544\n",
            "Loss : 0.005569315515458584\n",
            "Loss : 0.005222178064286709\n",
            "Loss : 0.004880306776612997\n",
            "Loss : 0.004536976106464863\n",
            "Loss : 0.00419129803776741\n",
            "Loss : 0.0038517764769494534\n",
            "Epoch: 160 | MAE Train Loss: 0.0038517764769494534 | MAE Test Loss: 0.008201557211577892 \n",
            "Loss : 0.0035027749836444855\n",
            "Loss : 0.0031660839449614286\n",
            "Loss : 0.002817571861669421\n",
            "Loss : 0.0024770735763013363\n",
            "Loss : 0.0021323717664927244\n",
            "Loss : 0.0017880648374557495\n",
            "Loss : 0.0014518328243866563\n",
            "Loss : 0.0011887758737429976\n",
            "Loss : 0.0025885067880153656\n",
            "Loss : 0.008932482451200485\n",
            "Epoch: 170 | MAE Train Loss: 0.008932482451200485 | MAE Test Loss: 0.005023092031478882 \n",
            "Loss : 0.0025885067880153656\n",
            "Loss : 0.008932482451200485\n",
            "Loss : 0.0025885067880153656\n",
            "Loss : 0.008932482451200485\n",
            "Loss : 0.0025885067880153656\n",
            "Loss : 0.008932482451200485\n",
            "Loss : 0.0025885067880153656\n",
            "Loss : 0.008932482451200485\n",
            "Loss : 0.0025885067880153656\n",
            "Loss : 0.008932482451200485\n",
            "Epoch: 180 | MAE Train Loss: 0.008932482451200485 | MAE Test Loss: 0.005023092031478882 \n",
            "Loss : 0.0025885067880153656\n",
            "Loss : 0.008932482451200485\n",
            "Loss : 0.0025885067880153656\n",
            "Loss : 0.008932482451200485\n",
            "Loss : 0.0025885067880153656\n",
            "Loss : 0.008932482451200485\n",
            "Loss : 0.0025885067880153656\n",
            "Loss : 0.008932482451200485\n",
            "Loss : 0.0025885067880153656\n",
            "Loss : 0.008932482451200485\n",
            "Epoch: 190 | MAE Train Loss: 0.008932482451200485 | MAE Test Loss: 0.005023092031478882 \n",
            "Loss : 0.0025885067880153656\n",
            "Loss : 0.008932482451200485\n",
            "Loss : 0.0025885067880153656\n",
            "Loss : 0.008932482451200485\n",
            "Loss : 0.0025885067880153656\n",
            "Loss : 0.008932482451200485\n",
            "Loss : 0.0025885067880153656\n",
            "Loss : 0.008932482451200485\n",
            "Loss : 0.0025885067880153656\n"
          ]
        }
      ]
    },
    {
      "cell_type": "code",
      "source": [
        "y_preds_new = model_0(X_test)"
      ],
      "metadata": {
        "id": "rcFmC8ZiofUD"
      },
      "execution_count": 14,
      "outputs": []
    },
    {
      "cell_type": "code",
      "source": [
        "plot_prediction(predictions=y_preds_new.detach().numpy())"
      ],
      "metadata": {
        "id": "WoWyUY_ro900",
        "outputId": "0f40beac-1762-4898-e26d-b58b544a38f5",
        "colab": {
          "base_uri": "https://localhost:8080/",
          "height": 599
        }
      },
      "execution_count": 15,
      "outputs": [
        {
          "output_type": "display_data",
          "data": {
            "text/plain": [
              "<Figure size 1000x700 with 1 Axes>"
            ],
            "image/png": "[encoded data removed]"
          },
          "metadata": {}
        }
      ]
    },
    {
      "cell_type": "markdown",
      "source": [
        "## **Plot Loss Curves**"
      ],
      "metadata": {
        "id": "ArnkxgUnskYZ"
      }
    },
    {
      "cell_type": "code",
      "source": [
        "plt.plot(epoch_count, train_loss_values, label=\"Train Loss\")\n",
        "plt.plot(epoch_count, test_loss_values, label=\"Test Loss\")\n",
        "plt.title(\"Train and Test Label Loss\")\n",
        "plt.ylabel(\"Loss\")\n",
        "plt.xlabel(\"Epochs\")\n",
        "plt.legend();"
      ],
      "metadata": {
        "colab": {
          "base_uri": "https://localhost:8080/",
          "height": 472
        },
        "id": "OJLAHG0kkI8u",
        "outputId": "3975092d-ebba-46c2-9d37-81386520a68a"
      },
      "execution_count": 16,
      "outputs": [
        {
          "output_type": "display_data",
          "data": {
            "text/plain": [
              "<Figure size 640x480 with 1 Axes>"
            ],
            "image/png": "[encoded data removed]"
          },
          "metadata": {}
        }
      ]
    },
    {
      "cell_type": "markdown",
      "source": [
        "## **Saving a model in PyTorch**\n",
        "\n",
        "There are theree main methods for saving and loading models in PyTorch\n",
        "\n",
        "1. `torch.save()` - allows you to save a PyTorch object in Python's pickle format\n",
        "2. `torch.load()` - allows you to load a saved PyTorch object.\n",
        "3. `torch.nn.Module.load_state_dict()` - this allows you to load a model's saved state dictionary"
      ],
      "metadata": {
        "id": "U03g8dUKk6cu"
      }
    },
    {
      "cell_type": "code",
      "source": [
        "model_0.state_dict()"
      ],
      "metadata": {
        "colab": {
          "base_uri": "https://localhost:8080/"
        },
        "id": "wJ-srvqnnJwI",
        "outputId": "e435ae2d-370b-4aa3-9d56-001acfc8bc7a"
      },
      "execution_count": 17,
      "outputs": [
        {
          "output_type": "execute_result",
          "data": {
            "text/plain": [
              "OrderedDict([('weights', tensor([0.6990])), ('bias', tensor([0.3093]))])"
            ]
          },
          "metadata": {},
          "execution_count": 17
        }
      ]
    },
    {
      "cell_type": "code",
      "source": [
        "# Saving our PyTorch Model\n",
        "from pathlib import Path\n",
        "\n",
        "# Create a models directory\n",
        "MODEL_PATH = Path(\"models\")\n",
        "MODEL_PATH.mkdir(parents=True, exist_ok=True)\n",
        "\n",
        "# Create model save path\n",
        "MODEL_NAME = \"01_pytorch_workflow_model_0.pth\"\n",
        "MODEL_SAVE_PATH = MODEL_PATH / MODEL_NAME\n",
        "\n",
        "# Save the model state_dict\n",
        "print(f\"Saving the model to the path: {MODEL_SAVE_PATH}\")\n",
        "torch.save(obj=model_0.state_dict(),\n",
        "           f=MODEL_SAVE_PATH)"
      ],
      "metadata": {
        "colab": {
          "base_uri": "https://localhost:8080/"
        },
        "id": "cZyEJtxGnNNw",
        "outputId": "034d3590-01d0-4a6c-a654-a43662796551"
      },
      "execution_count": 18,
      "outputs": [
        {
          "output_type": "stream",
          "name": "stdout",
          "text": [
            "Saving the model to the path: models/01_pytorch_workflow_model_0.pth\n"
          ]
        }
      ]
    },
    {
      "cell_type": "markdown",
      "source": [
        "## **Loading a PyTorch Model**\n",
        "\n",
        "Since we saved our model's state_dict() rather the entire model, we'll create a new instance of our model class and load the saved state_dict() into that."
      ],
      "metadata": {
        "id": "YTVv3WDVpElM"
      }
    },
    {
      "cell_type": "code",
      "source": [
        "# To load the saved_dict of the model we have\n",
        "# to instantiate a new instance of our model class\n",
        "loaded_model_0 = LinearRegression()\n",
        "\n",
        "# Load the state_dict of the model (this will update the new instance with the updated parameters or the trained parameters)\n",
        "loaded_model_0.load_state_dict(torch.load(f=MODEL_SAVE_PATH))\n"
      ],
      "metadata": {
        "colab": {
          "base_uri": "https://localhost:8080/"
        },
        "id": "7sfssXBfJrYF",
        "outputId": "e8cb68bb-db34-4603-ca83-5cee99dfc6bf"
      },
      "execution_count": 19,
      "outputs": [
        {
          "output_type": "execute_result",
          "data": {
            "text/plain": [
              "<All keys matched successfully>"
            ]
          },
          "metadata": {},
          "execution_count": 19
        }
      ]
    },
    {
      "cell_type": "code",
      "source": [
        "loaded_model_0.state_dict()"
      ],
      "metadata": {
        "colab": {
          "base_uri": "https://localhost:8080/"
        },
        "id": "8LwmmdHhK8CL",
        "outputId": "31c67d69-448b-4c0b-dac2-a7725cf1c700"
      },
      "execution_count": 20,
      "outputs": [
        {
          "output_type": "execute_result",
          "data": {
            "text/plain": [
              "OrderedDict([('weights', tensor([0.6990])), ('bias', tensor([0.3093]))])"
            ]
          },
          "metadata": {},
          "execution_count": 20
        }
      ]
    },
    {
      "cell_type": "code",
      "source": [
        "from torch.autograd.grad_mode import inference_mode\n",
        "# Make some predictions with our loaded model\n",
        "loaded_model_0.eval()\n",
        "\n",
        "with inference_mode():\n",
        "  loaded_model_preds = loaded_model_0(X_test)\n",
        "\n",
        "loaded_model_preds"
      ],
      "metadata": {
        "colab": {
          "base_uri": "https://localhost:8080/"
        },
        "id": "qRIRPrAQLC3J",
        "outputId": "316a9b4e-9349-4ae7-9d2e-77b40a780b8c"
      },
      "execution_count": 23,
      "outputs": [
        {
          "output_type": "execute_result",
          "data": {
            "text/plain": [
              "tensor([[0.8685],\n",
              "        [0.8825],\n",
              "        [0.8965],\n",
              "        [0.9105],\n",
              "        [0.9245],\n",
              "        [0.9384],\n",
              "        [0.9524],\n",
              "        [0.9664],\n",
              "        [0.9804],\n",
              "        [0.9944]])"
            ]
          },
          "metadata": {},
          "execution_count": 23
        }
      ]
    },
    {
      "cell_type": "code",
      "source": [],
      "metadata": {
        "id": "C2h63Y3tLn1x"
      },
      "execution_count": null,
      "outputs": []
    }
  ]
}