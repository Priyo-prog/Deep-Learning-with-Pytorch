{
  "nbformat": 4,
  "nbformat_minor": 0,
  "metadata": {
    "colab": {
      "provenance": [],
      "authorship_tag": "ABX9TyOJ1PnCOToLOokY6saaTVhv",
      "include_colab_link": true
    },
    "kernelspec": {
      "name": "python3",
      "display_name": "Python 3"
    },
    "language_info": {
      "name": "python"
    }
  },
  "cells": [
    {
      "cell_type": "markdown",
      "metadata": {
        "id": "view-in-github",
        "colab_type": "text"
      },
      "source": [
        "<a href=\"https://colab.research.google.com/github/Priyo-prog/Deep-Learning-with-Pytorch/blob/main/PyTorch%20Workflow/pytorch_workflow.ipynb\" target=\"_parent\"><img src=\"https://colab.research.google.com/assets/colab-badge.svg\" alt=\"Open In Colab\"/></a>"
      ]
    },
    {
      "cell_type": "markdown",
      "source": [
        "# **PyTorch Workflow**\n",
        "\n",
        "Data can be anything\n",
        "\n",
        "* Excel Spreadsheet\n",
        "* Images of anykind\n",
        "* Video (Youtube has lots of data)\n",
        "* Audio like podcast or songs\n",
        "* DNA\n",
        "* Text etc...\n",
        "\n",
        "Machine learning has two primary parts\n",
        "\n",
        "1. Get the data in numerical representations\n",
        "2. Build a model to learn patterns in that numerical representation"
      ],
      "metadata": {
        "id": "c14k1RL8eZCc"
      }
    },
    {
      "cell_type": "markdown",
      "source": [
        "## **Demo with Linear Regression**"
      ],
      "metadata": {
        "id": "mEXJ-rcDeuAt"
      }
    },
    {
      "cell_type": "code",
      "source": [
        "import torch\n",
        "from torch import nn ## nn contains all the bulding blocks for neural network\n",
        "import matplotlib.pyplot as plt"
      ],
      "metadata": {
        "id": "Ez_x-NEzlILf"
      },
      "execution_count": 1,
      "outputs": []
    },
    {
      "cell_type": "code",
      "source": [
        "# Create known parameters\n",
        "weight = 0.7\n",
        "bias = 0.3\n",
        "\n",
        "# Create\n",
        "start = 0\n",
        "end = 1\n",
        "step = 0.02\n",
        "\n",
        "X = torch.arange(start, end, step).unsqueeze(dim=1)\n",
        "y = X * weight + bias\n",
        "\n",
        "X[:10], y[:10]"
      ],
      "metadata": {
        "id": "xsqT5726lfIz",
        "outputId": "1d061daf-1a99-4794-f862-2f735c24a011",
        "colab": {
          "base_uri": "https://localhost:8080/"
        }
      },
      "execution_count": 4,
      "outputs": [
        {
          "output_type": "execute_result",
          "data": {
            "text/plain": [
              "(tensor([[0.0000],\n",
              "         [0.0200],\n",
              "         [0.0400],\n",
              "         [0.0600],\n",
              "         [0.0800],\n",
              "         [0.1000],\n",
              "         [0.1200],\n",
              "         [0.1400],\n",
              "         [0.1600],\n",
              "         [0.1800]]),\n",
              " tensor([[0.3000],\n",
              "         [0.3140],\n",
              "         [0.3280],\n",
              "         [0.3420],\n",
              "         [0.3560],\n",
              "         [0.3700],\n",
              "         [0.3840],\n",
              "         [0.3980],\n",
              "         [0.4120],\n",
              "         [0.4260]]))"
            ]
          },
          "metadata": {},
          "execution_count": 4
        }
      ]
    },
    {
      "cell_type": "code",
      "source": [
        "len(X), len(y)"
      ],
      "metadata": {
        "id": "D9ivo8qVm-EO",
        "outputId": "333a1d70-746f-4e4f-b0f7-c005e09a9b3a",
        "colab": {
          "base_uri": "https://localhost:8080/"
        }
      },
      "execution_count": 5,
      "outputs": [
        {
          "output_type": "execute_result",
          "data": {
            "text/plain": [
              "(50, 50)"
            ]
          },
          "metadata": {},
          "execution_count": 5
        }
      ]
    },
    {
      "cell_type": "code",
      "source": [],
      "metadata": {
        "id": "rz70ud_onp-r"
      },
      "execution_count": null,
      "outputs": []
    }
  ]
}