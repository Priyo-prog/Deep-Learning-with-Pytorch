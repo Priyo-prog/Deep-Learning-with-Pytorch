{
  "nbformat": 4,
  "nbformat_minor": 0,
  "metadata": {
    "colab": {
      "provenance": [],
      "authorship_tag": "ABX9TyN0kEFwS2tuEvij0eXlPscl",
      "include_colab_link": true
    },
    "kernelspec": {
      "name": "python3",
      "display_name": "Python 3"
    },
    "language_info": {
      "name": "python"
    }
  },
  "cells": [
    {
      "cell_type": "markdown",
      "metadata": {
        "id": "view-in-github",
        "colab_type": "text"
      },
      "source": [
        "<a href=\"https://colab.research.google.com/github/Priyo-prog/Deep-Learning-with-Pytorch/blob/main/PyTorch%20Workflow/pytorch_workflow.ipynb\" target=\"_parent\"><img src=\"https://colab.research.google.com/assets/colab-badge.svg\" alt=\"Open In Colab\"/></a>"
      ]
    },
    {
      "cell_type": "markdown",
      "source": [
        "# **PyTorch Workflow**\n",
        "\n",
        "Data can be anything\n",
        "\n",
        "* Excel Spreadsheet\n",
        "* Images of anykind\n",
        "* Video (Youtube has lots of data)\n",
        "* Audio like podcast or songs\n",
        "* DNA\n",
        "* Text etc...\n",
        "\n",
        "Machine learning has two primary parts\n",
        "\n",
        "1. Get the data in numerical representations\n",
        "2. Build a model to learn patterns in that numerical representation"
      ],
      "metadata": {
        "id": "c14k1RL8eZCc"
      }
    },
    {
      "cell_type": "markdown",
      "source": [
        "## **Demo with Linear Regression**"
      ],
      "metadata": {
        "id": "mEXJ-rcDeuAt"
      }
    },
    {
      "cell_type": "code",
      "source": [
        "import torch\n",
        "from torch import nn ## nn contains all the bulding blocks for neural network\n",
        "import matplotlib.pyplot as plt"
      ],
      "metadata": {
        "id": "Ez_x-NEzlILf"
      },
      "execution_count": 1,
      "outputs": []
    },
    {
      "cell_type": "code",
      "source": [
        "# Create known parameters\n",
        "weight = 0.7\n",
        "bias = 0.3\n",
        "\n",
        "# Create\n",
        "start = 0\n",
        "end = 1\n",
        "step = 0.02\n",
        "\n",
        "X = torch.arange(start, end, step).unsqueeze(dim=1)\n",
        "y = X * weight + bias\n",
        "\n",
        "X[:10], y[:10]"
      ],
      "metadata": {
        "id": "xsqT5726lfIz",
        "outputId": "fa1c9db3-baf7-48d9-ef94-c4bc772941a9",
        "colab": {
          "base_uri": "https://localhost:8080/"
        }
      },
      "execution_count": 2,
      "outputs": [
        {
          "output_type": "execute_result",
          "data": {
            "text/plain": [
              "(tensor([[0.0000],\n",
              "         [0.0200],\n",
              "         [0.0400],\n",
              "         [0.0600],\n",
              "         [0.0800],\n",
              "         [0.1000],\n",
              "         [0.1200],\n",
              "         [0.1400],\n",
              "         [0.1600],\n",
              "         [0.1800]]),\n",
              " tensor([[0.3000],\n",
              "         [0.3140],\n",
              "         [0.3280],\n",
              "         [0.3420],\n",
              "         [0.3560],\n",
              "         [0.3700],\n",
              "         [0.3840],\n",
              "         [0.3980],\n",
              "         [0.4120],\n",
              "         [0.4260]]))"
            ]
          },
          "metadata": {},
          "execution_count": 2
        }
      ]
    },
    {
      "cell_type": "code",
      "source": [
        "len(X), len(y)"
      ],
      "metadata": {
        "id": "D9ivo8qVm-EO",
        "outputId": "fe8d482e-de70-4d15-9233-36737383f38a",
        "colab": {
          "base_uri": "https://localhost:8080/"
        }
      },
      "execution_count": 3,
      "outputs": [
        {
          "output_type": "execute_result",
          "data": {
            "text/plain": [
              "(50, 50)"
            ]
          },
          "metadata": {},
          "execution_count": 3
        }
      ]
    },
    {
      "cell_type": "markdown",
      "source": [
        "## **Splitting Data in Training and Test Sets**"
      ],
      "metadata": {
        "id": "rz70ud_onp-r"
      }
    },
    {
      "cell_type": "code",
      "source": [
        "# Create a train and test split\n",
        "train_split = int(0.8 * len(X))\n",
        "X_train, y_train = X[0:train_split], y[:train_split]\n",
        "X_test, y_test = X[train_split:], y[train_split:]\n",
        "\n",
        "X_train.shape, X_test.shape"
      ],
      "metadata": {
        "id": "H3KXUpV1PfGS",
        "outputId": "0bbd34a3-7b22-431a-a846-1b82d6b167f6",
        "colab": {
          "base_uri": "https://localhost:8080/"
        }
      },
      "execution_count": 4,
      "outputs": [
        {
          "output_type": "execute_result",
          "data": {
            "text/plain": [
              "(torch.Size([40, 1]), torch.Size([10, 1]))"
            ]
          },
          "metadata": {},
          "execution_count": 4
        }
      ]
    },
    {
      "cell_type": "markdown",
      "source": [
        "## **Visualize the data**"
      ],
      "metadata": {
        "id": "zHd6HrDpQtr6"
      }
    },
    {
      "cell_type": "code",
      "source": [
        "def plot_prediction(train_data=X_train,\n",
        "                    train_labels=y_train,\n",
        "                    test_data=X_test,\n",
        "                    test_labels=y_test,\n",
        "                    predictions=None):\n",
        "\n",
        "  \"\"\"\n",
        "  Plots training data, test data and compare predictions\n",
        "  \"\"\"\n",
        "  plt.figure(figsize=(10,7))\n",
        "\n",
        "  # Plot the training data in blue\n",
        "  plt.scatter(train_data, train_labels, c=\"b\", s=6, label=\"Training Data\")\n",
        "\n",
        "  # Plot the testing data in green\n",
        "  plt.scatter(test_data, test_labels, c=\"g\", s=6, label=\"Testing Data\")\n",
        "\n",
        "  if predictions is not None:\n",
        "\n",
        "    plt.scatter(test_data, predictions, color=\"orange\", s=6, label=\"Predictions\")\n",
        "\n",
        "  # Show the legend\n",
        "  plt.legend(prop={\"size\": 14});\n"
      ],
      "metadata": {
        "id": "T0Met2qJRbLN"
      },
      "execution_count": 30,
      "outputs": []
    },
    {
      "cell_type": "code",
      "source": [
        "plot_prediction()"
      ],
      "metadata": {
        "id": "pztnH8mZVGcy",
        "outputId": "31a3c5db-4dd7-4dd3-d46a-65b2e82560a6",
        "colab": {
          "base_uri": "https://localhost:8080/",
          "height": 599
        }
      },
      "execution_count": 31,
      "outputs": [
        {
          "output_type": "display_data",
          "data": {
            "text/plain": [
              "<Figure size 1000x700 with 1 Axes>"
            ],
            "image/png": "[encoded data removed]"
          },
          "metadata": {}
        }
      ]
    },
    {
      "cell_type": "markdown",
      "source": [
        "## **Build a Liner Regression Model**"
      ],
      "metadata": {
        "id": "0dFTMgkaVTeW"
      }
    },
    {
      "cell_type": "code",
      "source": [
        "# Create Linear Regression class\n",
        "class LinearRegression(nn.Module):\n",
        "\n",
        "  def __init__(self):\n",
        "    super().__init__()\n",
        "    self.weights = nn.Parameter(torch.randn(\n",
        "                             1, # Starts with a random weight and try to adjust it to the ideal weight\n",
        "                             requires_grad=True,\n",
        "                             dtype=torch.float))\n",
        "    self.bias = nn.Parameter(torch.randn(\n",
        "                            1, # Starts with a random bias and try to adjust it to the ideal bias\n",
        "                            requires_grad=True,\n",
        "                            dtype=torch.float))\n",
        "\n",
        "  # Forward method to define the computation in the model\n",
        "  def forward(self, x: torch.Tensor) -> torch.Tensor:\n",
        "    return self.weights*x + self.bias"
      ],
      "metadata": {
        "id": "2_UuK_BZWHMi"
      },
      "execution_count": 7,
      "outputs": []
    },
    {
      "cell_type": "markdown",
      "source": [
        "## **Checking the contents of our PyTorch model**"
      ],
      "metadata": {
        "id": "ltQP11qOJG0q"
      }
    },
    {
      "cell_type": "code",
      "source": [
        "# Create a random seed\n",
        "torch.manual_seed(42)\n",
        "\n",
        "# Create an instance of the linear regression model\n",
        "model_0 = LinearRegression()\n",
        "\n",
        "list(model_0.parameters())"
      ],
      "metadata": {
        "id": "WGehhCkiiwft",
        "outputId": "b2b01b27-537e-4ca5-874b-6475efc9282b",
        "colab": {
          "base_uri": "https://localhost:8080/"
        }
      },
      "execution_count": 8,
      "outputs": [
        {
          "output_type": "execute_result",
          "data": {
            "text/plain": [
              "[Parameter containing:\n",
              " tensor([0.3367], requires_grad=True),\n",
              " Parameter containing:\n",
              " tensor([0.1288], requires_grad=True)]"
            ]
          },
          "metadata": {},
          "execution_count": 8
        }
      ]
    },
    {
      "cell_type": "code",
      "source": [
        "model_0.state_dict()"
      ],
      "metadata": {
        "id": "A8p2m7NukCID",
        "outputId": "7ffbe792-8b56-4ee4-a0ed-00dc79f64215",
        "colab": {
          "base_uri": "https://localhost:8080/"
        }
      },
      "execution_count": 9,
      "outputs": [
        {
          "output_type": "execute_result",
          "data": {
            "text/plain": [
              "OrderedDict([('weights', tensor([0.3367])), ('bias', tensor([0.1288]))])"
            ]
          },
          "metadata": {},
          "execution_count": 9
        }
      ]
    },
    {
      "cell_type": "markdown",
      "source": [
        "## **Making Predictions using torch.inference_model()**\n",
        "\n",
        "To check our model's predictive power, let's see how well it predicts y_test based on X_test.\n",
        "\n",
        "When we pass data through our model, it's going to run it through forward() method"
      ],
      "metadata": {
        "id": "hOALn7pvkKKh"
      }
    },
    {
      "cell_type": "code",
      "source": [
        "# Make predictions with model\n",
        "with torch.inference_mode():\n",
        "  y_pred = model_0(X_test)\n",
        "\n",
        "y_pred"
      ],
      "metadata": {
        "id": "ez8yzfeElMko",
        "outputId": "c5f2e991-54e9-4526-9477-6b117ed217e5",
        "colab": {
          "base_uri": "https://localhost:8080/"
        }
      },
      "execution_count": 10,
      "outputs": [
        {
          "output_type": "execute_result",
          "data": {
            "text/plain": [
              "tensor([[0.3982],\n",
              "        [0.4049],\n",
              "        [0.4116],\n",
              "        [0.4184],\n",
              "        [0.4251],\n",
              "        [0.4318],\n",
              "        [0.4386],\n",
              "        [0.4453],\n",
              "        [0.4520],\n",
              "        [0.4588]])"
            ]
          },
          "metadata": {},
          "execution_count": 10
        }
      ]
    },
    {
      "cell_type": "code",
      "source": [
        "plot_prediction(predictions=y_pred)"
      ],
      "metadata": {
        "id": "DHgduhJEmPjT",
        "outputId": "a2fa4eb9-c348-4a5b-a388-2797274b34cb",
        "colab": {
          "base_uri": "https://localhost:8080/",
          "height": 599
        }
      },
      "execution_count": 11,
      "outputs": [
        {
          "output_type": "display_data",
          "data": {
            "text/plain": [
              "<Figure size 1000x700 with 1 Axes>"
            ],
            "image/png": "[encoded data removed]"
          },
          "metadata": {}
        }
      ]
    },
    {
      "cell_type": "markdown",
      "source": [
        "## **Train Model**\n",
        "\n",
        "The whole idea of training is for a model to move from some unknown parameters (these my be random) to some known parameters.\n",
        "\n",
        "Or in other words from a poor representation of the data to a better representation of the data.\n",
        "\n",
        "One way to measure how poor or how wrong models predictions are is to use a loss function.\n",
        "\n",
        "**Note** : Loss function may also be called cost function or criterion in different areas.\n",
        "\n",
        "Things we need to train:\n",
        "\n",
        "**Loss Function** : A function to measure how wrong your model's predictions are to the ideal outputs, lower is better.\n",
        "\n",
        "**Optimizer** : Takes into account the loss of a model and adjust the model's parameters (weights & bias)"
      ],
      "metadata": {
        "id": "QrU0uuEpm7Ep"
      }
    },
    {
      "cell_type": "code",
      "source": [
        "# Set up a loss function\n",
        "loss_fn = nn.L1Loss()\n",
        "\n",
        "# Setup a optimizer\n",
        "optimizer = torch.optim.SGD(params=model_0.parameters(),\n",
        "                            lr = 0.01) # Learning rate"
      ],
      "metadata": {
        "id": "XgMdKgI-oWrk"
      },
      "execution_count": 12,
      "outputs": []
    },
    {
      "cell_type": "markdown",
      "source": [
        "## **Building A Training Loop And A Testing Loop in PyTorch**\n",
        "\n",
        "Requirements in atraining loop\n",
        "\n",
        "1. Loop through the data\n",
        "2. Forward pass (this involves data moving through our model's forward() functions) to make predictions on data - also called forward propagation\n",
        "3. Calculate the loss (compare forward predictions to ground truth labels)\n",
        "4. Optimizer zero grad\n",
        "5. Loss backward - move backwards through the network to calculate the gradients of each of the parameters of our model with respect to the loss ( **backpropagation** ).\n",
        "6. Optimizer step - use the optimizer to adjust our model's parameters to try and improve the loss ( **gradient descent** )"
      ],
      "metadata": {
        "id": "ABzBErNhQr98"
      }
    },
    {
      "cell_type": "code",
      "source": [
        "# An epoch is 1 loop in the data\n",
        "epochs = 10\n",
        "\n",
        "# Create empty loss lists to track values\n",
        "train_loss_values = []\n",
        "test_loss_values = []\n",
        "epoch_count = []\n",
        "\n",
        "# loop through the data\n",
        "for epoch in range(epochs):\n",
        "  # Set the modelto training mode\n",
        "  model_0.train() # train mode in PyTorch sets all parameters that require gradients\n",
        "\n",
        "  # 1. Forward pass\n",
        "  y_pred = model_0(X_train)\n",
        "\n",
        "  # 2. Calculate the loss\n",
        "  loss = loss_fn(y_pred, y_train)\n",
        "  print(f\"Loss : {loss}\")\n",
        "\n",
        "  # 3. Optimizer zero grad\n",
        "  optimizer.zero_grad()\n",
        "\n",
        "  # 4. Perform backpropagation on the loss with respect to the parameters of the model\n",
        "  loss.backward()\n",
        "\n",
        "  # 5. Step the optimizer (gradient descent)\n",
        "  optimizer.step()\n",
        "\n",
        "  model_0.eval() # turns off gradient tracking\n",
        "\n",
        "  with torch.inference_mode():\n",
        "      # 1. Forward pass on test data\n",
        "      test_pred = model_0(X_test)\n",
        "\n",
        "      # 2. Caculate loss on test data\n",
        "      test_loss = loss_fn(test_pred, y_test.type(torch.float)) # predictions come in torch.float datatype, so comparisons need to be done with tensors of the same type\n",
        "\n",
        "      # Print out what's happening\n",
        "      if epoch % 10 == 0:\n",
        "            epoch_count.append(epoch)\n",
        "            train_loss_values.append(loss.detach().numpy())\n",
        "            test_loss_values.append(test_loss.detach().numpy())\n",
        "            print(f\"Epoch: {epoch} | MAE Train Loss: {loss} | MAE Test Loss: {test_loss} \")"
      ],
      "metadata": {
        "id": "i5XDNEFGSQM9",
        "outputId": "927566b9-d461-42bb-a56d-edee703b9ac4",
        "colab": {
          "base_uri": "https://localhost:8080/"
        }
      },
      "execution_count": 33,
      "outputs": [
        {
          "output_type": "stream",
          "name": "stdout",
          "text": [
            "Loss : 0.05181945487856865\n",
            "Epoch: 0 | MAE Train Loss: 0.05181945487856865 | MAE Test Loss: 0.14023718237876892 \n",
            "Loss : 0.05069301277399063\n",
            "Loss : 0.0498228520154953\n",
            "Loss : 0.04895269125699997\n",
            "Loss : 0.04819351062178612\n",
            "Loss : 0.047531817108392715\n",
            "Loss : 0.04692792519927025\n",
            "Loss : 0.04642331600189209\n",
            "Loss : 0.04591871052980423\n",
            "Loss : 0.04543796554207802\n"
          ]
        }
      ]
    },
    {
      "cell_type": "code",
      "source": [
        "y_preds_new = model_0(X_test)"
      ],
      "metadata": {
        "id": "rcFmC8ZiofUD"
      },
      "execution_count": 34,
      "outputs": []
    },
    {
      "cell_type": "code",
      "source": [
        "plot_prediction(predictions=y_preds_new.detach().numpy())"
      ],
      "metadata": {
        "id": "WoWyUY_ro900",
        "outputId": "bd3e3c93-b97c-4c35-bb96-f482c3db5f7f",
        "colab": {
          "base_uri": "https://localhost:8080/",
          "height": 599
        }
      },
      "execution_count": 37,
      "outputs": [
        {
          "output_type": "display_data",
          "data": {
            "text/plain": [
              "<Figure size 1000x700 with 1 Axes>"
            ],
            "image/png": "[encoded data removed]"
          },
          "metadata": {}
        }
      ]
    },
    {
      "cell_type": "code",
      "source": [],
      "metadata": {
        "id": "ArnkxgUnskYZ"
      },
      "execution_count": null,
      "outputs": []
    }
  ]
}