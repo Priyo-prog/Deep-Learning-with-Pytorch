{
  "nbformat": 4,
  "nbformat_minor": 0,
  "metadata": {
    "colab": {
      "provenance": [],
      "authorship_tag": "ABX9TyPSTUg2iTA14kAo3NDizG33",
      "include_colab_link": true
    },
    "kernelspec": {
      "name": "python3",
      "display_name": "Python 3"
    },
    "language_info": {
      "name": "python"
    }
  },
  "cells": [
    {
      "cell_type": "markdown",
      "metadata": {
        "id": "view-in-github",
        "colab_type": "text"
      },
      "source": [
        "<a href=\"https://colab.research.google.com/github/Priyo-prog/Deep-Learning-with-Pytorch/blob/main/PyTorch%20Workflow/pytorch_workflow.ipynb\" target=\"_parent\"><img src=\"https://colab.research.google.com/assets/colab-badge.svg\" alt=\"Open In Colab\"/></a>"
      ]
    },
    {
      "cell_type": "markdown",
      "source": [
        "# **PyTorch Workflow**\n",
        "\n",
        "Data can be anything\n",
        "\n",
        "* Excel Spreadsheet\n",
        "* Images of anykind\n",
        "* Video (Youtube has lots of data)\n",
        "* Audio like podcast or songs\n",
        "* DNA\n",
        "* Text etc...\n",
        "\n",
        "Machine learning has two primary parts\n",
        "\n",
        "1. Get the data in numerical representations\n",
        "2. Build a model to learn patterns in that numerical representation"
      ],
      "metadata": {
        "id": "c14k1RL8eZCc"
      }
    },
    {
      "cell_type": "markdown",
      "source": [
        "## **Demo with Linear Regression**"
      ],
      "metadata": {
        "id": "mEXJ-rcDeuAt"
      }
    },
    {
      "cell_type": "code",
      "source": [
        "import torch\n",
        "from torch import nn ## nn contains all the bulding blocks for neural network\n",
        "import matplotlib.pyplot as plt"
      ],
      "metadata": {
        "id": "Ez_x-NEzlILf"
      },
      "execution_count": 1,
      "outputs": []
    },
    {
      "cell_type": "code",
      "source": [
        "# Create known parameters\n",
        "weight = 0.7\n",
        "bias = 0.3\n",
        "\n",
        "# Create\n",
        "start = 0\n",
        "end = 1\n",
        "step = 0.02\n",
        "\n",
        "X = torch.arange(start, end, step).unsqueeze(dim=1)\n",
        "y = X * weight + bias\n",
        "\n",
        "X[:10], y[:10]"
      ],
      "metadata": {
        "id": "xsqT5726lfIz",
        "outputId": "6b80c6bf-15a7-4033-fa0e-066d266dbba3",
        "colab": {
          "base_uri": "https://localhost:8080/"
        }
      },
      "execution_count": 2,
      "outputs": [
        {
          "output_type": "execute_result",
          "data": {
            "text/plain": [
              "(tensor([[0.0000],\n",
              "         [0.0200],\n",
              "         [0.0400],\n",
              "         [0.0600],\n",
              "         [0.0800],\n",
              "         [0.1000],\n",
              "         [0.1200],\n",
              "         [0.1400],\n",
              "         [0.1600],\n",
              "         [0.1800]]),\n",
              " tensor([[0.3000],\n",
              "         [0.3140],\n",
              "         [0.3280],\n",
              "         [0.3420],\n",
              "         [0.3560],\n",
              "         [0.3700],\n",
              "         [0.3840],\n",
              "         [0.3980],\n",
              "         [0.4120],\n",
              "         [0.4260]]))"
            ]
          },
          "metadata": {},
          "execution_count": 2
        }
      ]
    },
    {
      "cell_type": "code",
      "source": [
        "len(X), len(y)"
      ],
      "metadata": {
        "id": "D9ivo8qVm-EO",
        "outputId": "cd859b36-ed71-4607-f880-dab31a98927e",
        "colab": {
          "base_uri": "https://localhost:8080/"
        }
      },
      "execution_count": 3,
      "outputs": [
        {
          "output_type": "execute_result",
          "data": {
            "text/plain": [
              "(50, 50)"
            ]
          },
          "metadata": {},
          "execution_count": 3
        }
      ]
    },
    {
      "cell_type": "markdown",
      "source": [
        "## **Splitting Data in Training and Test Sets**"
      ],
      "metadata": {
        "id": "rz70ud_onp-r"
      }
    },
    {
      "cell_type": "code",
      "source": [
        "# Create a train and test split\n",
        "train_split = int(0.8 * len(X))\n",
        "X_train, y_train = X[0:train_split], y[:train_split]\n",
        "X_test, y_test = X[train_split:], y[train_split:]\n",
        "\n",
        "X_train.shape, X_test.shape"
      ],
      "metadata": {
        "id": "H3KXUpV1PfGS",
        "outputId": "65476d1e-3611-4ce2-90b8-1aa927914820",
        "colab": {
          "base_uri": "https://localhost:8080/"
        }
      },
      "execution_count": 4,
      "outputs": [
        {
          "output_type": "execute_result",
          "data": {
            "text/plain": [
              "(torch.Size([40, 1]), torch.Size([10, 1]))"
            ]
          },
          "metadata": {},
          "execution_count": 4
        }
      ]
    },
    {
      "cell_type": "markdown",
      "source": [
        "## **Visualize the data**"
      ],
      "metadata": {
        "id": "zHd6HrDpQtr6"
      }
    },
    {
      "cell_type": "code",
      "source": [
        "def plot_prediction(train_data=X_train,\n",
        "                    train_labels=y_train,\n",
        "                    test_data=X_test,\n",
        "                    test_labels=y_test,\n",
        "                    predictions=None):\n",
        "\n",
        " \"\"\"\n",
        " Plots training data, test data and compare predictions\n",
        " \"\"\"\n",
        " plt.figure(figsize=(10,7))\n",
        "\n",
        " # Plot the training data in blue\n",
        " plt.scatter(train_data, train_labels, c=\"b\", s=6, label=\"Training Data\")\n",
        "\n",
        " # Plot the testing data in green\n",
        " plt.scatter(test_data, test_labels, c=\"g\", s=6, label=\"Testing Data\")\n",
        "\n",
        " if predictions is not None:\n",
        "\n",
        "  plt.scatter(test_data, predictions, color=\"orange\", s=6, label=\"Predictions\")\n",
        "\n",
        "  # Show the legend\n",
        "  plt.legend(prop={\"size\": 14});\n"
      ],
      "metadata": {
        "id": "T0Met2qJRbLN"
      },
      "execution_count": 5,
      "outputs": []
    },
    {
      "cell_type": "code",
      "source": [
        "plot_prediction()"
      ],
      "metadata": {
        "id": "pztnH8mZVGcy",
        "outputId": "2e1dcba6-25b3-4a3f-c057-29e9efddcc5a",
        "colab": {
          "base_uri": "https://localhost:8080/",
          "height": 599
        }
      },
      "execution_count": 6,
      "outputs": [
        {
          "output_type": "display_data",
          "data": {
            "text/plain": [
              "<Figure size 1000x700 with 1 Axes>"
            ],
            "image/png": "[encoded data removed]"
          },
          "metadata": {}
        }
      ]
    },
    {
      "cell_type": "markdown",
      "source": [
        "## **Build a Liner Regression Model**"
      ],
      "metadata": {
        "id": "0dFTMgkaVTeW"
      }
    },
    {
      "cell_type": "code",
      "source": [
        "# Create Linear Regression class\n",
        "class LinearRegression(nn.Module):\n",
        "\n",
        "  def __init__(self):\n",
        "    super().__init__()\n",
        "    self.weights = nn.Parameter(torch.randn(\n",
        "                             1, # Starts with a random weight and try to adjust it to the ideal weight\n",
        "                             requires_grad=True,\n",
        "                             dtype=torch.float))\n",
        "    self.bias = nn.Parameter(torch.randn(\n",
        "                            1, # Starts with a random bias and try to adjust it to the ideal bias\n",
        "                            requires_grad=True,\n",
        "                            dtype=torch.float))\n",
        "\n",
        "    # Forward method to define the computation in the model\n",
        "    def forward(self, x: torch.Tensor) -> torch.Tensor:\n",
        "      return self.weights*x + self.bias"
      ],
      "metadata": {
        "id": "2_UuK_BZWHMi"
      },
      "execution_count": 7,
      "outputs": []
    },
    {
      "cell_type": "markdown",
      "source": [
        "## **Checking the contents of our PyTorch model**"
      ],
      "metadata": {
        "id": "ltQP11qOJG0q"
      }
    }
  ]
}