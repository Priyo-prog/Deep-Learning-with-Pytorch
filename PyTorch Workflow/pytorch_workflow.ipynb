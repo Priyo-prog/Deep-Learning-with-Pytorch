{
  "nbformat": 4,
  "nbformat_minor": 0,
  "metadata": {
    "colab": {
      "provenance": [],
      "authorship_tag": "ABX9TyN4KAKg3P1I+HDDJQe6BIA2",
      "include_colab_link": true
    },
    "kernelspec": {
      "name": "python3",
      "display_name": "Python 3"
    },
    "language_info": {
      "name": "python"
    }
  },
  "cells": [
    {
      "cell_type": "markdown",
      "metadata": {
        "id": "view-in-github",
        "colab_type": "text"
      },
      "source": [
        "<a href=\"https://colab.research.google.com/github/Priyo-prog/Deep-Learning-with-Pytorch/blob/main/PyTorch%20Workflow/pytorch_workflow.ipynb\" target=\"_parent\"><img src=\"https://colab.research.google.com/assets/colab-badge.svg\" alt=\"Open In Colab\"/></a>"
      ]
    },
    {
      "cell_type": "markdown",
      "source": [
        "# **PyTorch Workflow**\n",
        "\n",
        "Data can be anything\n",
        "\n",
        "* Excel Spreadsheet\n",
        "* Images of anykind\n",
        "* Video (Youtube has lots of data)\n",
        "* Audio like podcast or songs\n",
        "* DNA\n",
        "* Text etc...\n",
        "\n",
        "Machine learning has two primary parts\n",
        "\n",
        "1. Get the data in numerical representations\n",
        "2. Build a model to learn patterns in that numerical representation"
      ],
      "metadata": {
        "id": "c14k1RL8eZCc"
      }
    },
    {
      "cell_type": "markdown",
      "source": [
        "## **Demo with Linear Regression**"
      ],
      "metadata": {
        "id": "mEXJ-rcDeuAt"
      }
    },
    {
      "cell_type": "code",
      "source": [
        "import torch\n",
        "from torch import nn ## nn contains all the bulding blocks for neural network\n",
        "import matplotlib.pyplot as plt"
      ],
      "metadata": {
        "id": "Ez_x-NEzlILf"
      },
      "execution_count": 1,
      "outputs": []
    },
    {
      "cell_type": "code",
      "source": [
        "# Create known parameters\n",
        "weight = 0.7\n",
        "bias = 0.3\n",
        "\n",
        "# Create\n",
        "start = 0\n",
        "end = 1\n",
        "step = 0.02\n",
        "\n",
        "X = torch.arange(start, end, step).unsqueeze(dim=1)\n",
        "y = X * weight + bias\n",
        "\n",
        "X[:10], y[:10]"
      ],
      "metadata": {
        "id": "xsqT5726lfIz",
        "outputId": "d0a6f940-3663-4e62-cd33-3db5a3189d34",
        "colab": {
          "base_uri": "https://localhost:8080/"
        }
      },
      "execution_count": 2,
      "outputs": [
        {
          "output_type": "execute_result",
          "data": {
            "text/plain": [
              "(tensor([[0.0000],\n",
              "         [0.0200],\n",
              "         [0.0400],\n",
              "         [0.0600],\n",
              "         [0.0800],\n",
              "         [0.1000],\n",
              "         [0.1200],\n",
              "         [0.1400],\n",
              "         [0.1600],\n",
              "         [0.1800]]),\n",
              " tensor([[0.3000],\n",
              "         [0.3140],\n",
              "         [0.3280],\n",
              "         [0.3420],\n",
              "         [0.3560],\n",
              "         [0.3700],\n",
              "         [0.3840],\n",
              "         [0.3980],\n",
              "         [0.4120],\n",
              "         [0.4260]]))"
            ]
          },
          "metadata": {},
          "execution_count": 2
        }
      ]
    },
    {
      "cell_type": "code",
      "source": [
        "len(X), len(y)"
      ],
      "metadata": {
        "id": "D9ivo8qVm-EO",
        "outputId": "43f25c48-eee2-4fa4-c96a-8e301772f05c",
        "colab": {
          "base_uri": "https://localhost:8080/"
        }
      },
      "execution_count": 3,
      "outputs": [
        {
          "output_type": "execute_result",
          "data": {
            "text/plain": [
              "(50, 50)"
            ]
          },
          "metadata": {},
          "execution_count": 3
        }
      ]
    },
    {
      "cell_type": "markdown",
      "source": [
        "## **Splitting Data in Training and Test Sets**"
      ],
      "metadata": {
        "id": "rz70ud_onp-r"
      }
    },
    {
      "cell_type": "code",
      "source": [
        "# Create a train and test split\n",
        "train_split = int(0.8 * len(X))\n",
        "X_train, y_train = X[0:train_split], y[:train_split]\n",
        "X_test, y_test = X[train_split:], y[train_split:]\n",
        "\n",
        "X_train.shape, X_test.shape"
      ],
      "metadata": {
        "id": "H3KXUpV1PfGS",
        "outputId": "bba99102-a808-427e-fcf2-348dd1ca9920",
        "colab": {
          "base_uri": "https://localhost:8080/"
        }
      },
      "execution_count": 4,
      "outputs": [
        {
          "output_type": "execute_result",
          "data": {
            "text/plain": [
              "(torch.Size([40, 1]), torch.Size([10, 1]))"
            ]
          },
          "metadata": {},
          "execution_count": 4
        }
      ]
    },
    {
      "cell_type": "markdown",
      "source": [
        "## **Visualize the data**"
      ],
      "metadata": {
        "id": "zHd6HrDpQtr6"
      }
    },
    {
      "cell_type": "code",
      "source": [
        "def plot_prediction(train_data=X_train,\n",
        "                    train_labels=y_train,\n",
        "                    test_data=X_test,\n",
        "                    test_labels=y_test,\n",
        "                    predictions=None):\n",
        "\n",
        " \"\"\"\n",
        " Plots training data, test data and compare predictions\n",
        " \"\"\"\n",
        " plt.figure(figsize=(10,7))\n",
        "\n",
        " # Plot the training data in blue\n",
        " plt.scatter(train_data, train_labels, c=\"b\", s=6, label=\"Training Data\")\n",
        "\n",
        " # Plot the testing data in green\n",
        " plt.scatter(test_data, test_labels, c=\"g\", s=6, label=\"Testing Data\")\n",
        "\n",
        " if predictions is not None:\n",
        "\n",
        "  plt.scatter(test_data, predictions, color=\"orange\", s=6, label=\"Predictions\")\n",
        "\n",
        "  # Show the legend\n",
        "  plt.legend(prop={\"size\": 14});\n"
      ],
      "metadata": {
        "id": "T0Met2qJRbLN"
      },
      "execution_count": 5,
      "outputs": []
    },
    {
      "cell_type": "code",
      "source": [
        "plot_prediction()"
      ],
      "metadata": {
        "id": "pztnH8mZVGcy",
        "outputId": "9528551e-309e-4733-ba12-c5c0e9e83e89",
        "colab": {
          "base_uri": "https://localhost:8080/",
          "height": 599
        }
      },
      "execution_count": 6,
      "outputs": [
        {
          "output_type": "display_data",
          "data": {
            "text/plain": [
              "<Figure size 1000x700 with 1 Axes>"
            ],
            "image/png": "[encoded data removed]"
          },
          "metadata": {}
        }
      ]
    },
    {
      "cell_type": "markdown",
      "source": [
        "## **Build a Liner Regression Model**"
      ],
      "metadata": {
        "id": "0dFTMgkaVTeW"
      }
    },
    {
      "cell_type": "code",
      "source": [
        "# Create Linear Regression class\n",
        "class LinearRegression(nn.Module):\n",
        "\n",
        "  def __init__(self):\n",
        "    super().__init__()\n",
        "    self.weights = nn.Parameter(torch.randn(\n",
        "                             1, # Starts with a random weight and try to adjust it to the ideal weight\n",
        "                             requires_grad=True,\n",
        "                             dtype=torch.float))\n",
        "    self.bias = nn.Parameter(torch.randn(\n",
        "                            1, # Starts with a random bias and try to adjust it to the ideal bias\n",
        "                            requires_grad=True,\n",
        "                            dtype=torch.float))\n",
        "\n",
        "  # Forward method to define the computation in the model\n",
        "  def forward(self, x: torch.Tensor) -> torch.Tensor:\n",
        "    return self.weights*x + self.bias"
      ],
      "metadata": {
        "id": "2_UuK_BZWHMi"
      },
      "execution_count": 7,
      "outputs": []
    },
    {
      "cell_type": "markdown",
      "source": [
        "## **Checking the contents of our PyTorch model**"
      ],
      "metadata": {
        "id": "ltQP11qOJG0q"
      }
    },
    {
      "cell_type": "code",
      "source": [
        "# Create a random seed\n",
        "torch.manual_seed(42)\n",
        "\n",
        "# Create an instance of the linear regression model\n",
        "model_0 = LinearRegression()\n",
        "\n",
        "list(model_0.parameters())"
      ],
      "metadata": {
        "id": "WGehhCkiiwft",
        "outputId": "fe04c4f5-bde8-4e97-cb77-e78da2c2ea53",
        "colab": {
          "base_uri": "https://localhost:8080/"
        }
      },
      "execution_count": 8,
      "outputs": [
        {
          "output_type": "execute_result",
          "data": {
            "text/plain": [
              "[Parameter containing:\n",
              " tensor([0.3367], requires_grad=True),\n",
              " Parameter containing:\n",
              " tensor([0.1288], requires_grad=True)]"
            ]
          },
          "metadata": {},
          "execution_count": 8
        }
      ]
    },
    {
      "cell_type": "code",
      "source": [
        "model_0.state_dict()"
      ],
      "metadata": {
        "id": "A8p2m7NukCID",
        "outputId": "1fdf1321-e490-4e16-f94f-e55b271f06a6",
        "colab": {
          "base_uri": "https://localhost:8080/"
        }
      },
      "execution_count": 9,
      "outputs": [
        {
          "output_type": "execute_result",
          "data": {
            "text/plain": [
              "OrderedDict([('weights', tensor([0.3367])), ('bias', tensor([0.1288]))])"
            ]
          },
          "metadata": {},
          "execution_count": 9
        }
      ]
    },
    {
      "cell_type": "markdown",
      "source": [
        "## **Making Predictions using torch.inference_model()**\n",
        "\n",
        "To check our model's predictive power, let's see how well it predicts y_test based on X_test.\n",
        "\n",
        "When we pass data through our model, it's going to run it through forward() method"
      ],
      "metadata": {
        "id": "hOALn7pvkKKh"
      }
    },
    {
      "cell_type": "code",
      "source": [
        "# Make predictions with model\n",
        "with torch.inference_mode():\n",
        "  y_pred = model_0(X_test)\n",
        "\n",
        "y_pred"
      ],
      "metadata": {
        "id": "ez8yzfeElMko",
        "outputId": "aa73f263-d03c-4166-9ccb-fb5d51196b39",
        "colab": {
          "base_uri": "https://localhost:8080/"
        }
      },
      "execution_count": 10,
      "outputs": [
        {
          "output_type": "execute_result",
          "data": {
            "text/plain": [
              "tensor([[0.3982],\n",
              "        [0.4049],\n",
              "        [0.4116],\n",
              "        [0.4184],\n",
              "        [0.4251],\n",
              "        [0.4318],\n",
              "        [0.4386],\n",
              "        [0.4453],\n",
              "        [0.4520],\n",
              "        [0.4588]])"
            ]
          },
          "metadata": {},
          "execution_count": 10
        }
      ]
    },
    {
      "cell_type": "code",
      "source": [
        "plot_prediction(predictions=y_pred)"
      ],
      "metadata": {
        "id": "DHgduhJEmPjT",
        "outputId": "3e6ef0a2-8f99-4842-85f7-dca907909ae7",
        "colab": {
          "base_uri": "https://localhost:8080/",
          "height": 599
        }
      },
      "execution_count": 11,
      "outputs": [
        {
          "output_type": "display_data",
          "data": {
            "text/plain": [
              "<Figure size 1000x700 with 1 Axes>"
            ],
            "image/png": "[encoded data removed]"
          },
          "metadata": {}
        }
      ]
    },
    {
      "cell_type": "markdown",
      "source": [
        "## **Train Model**\n",
        "\n",
        "The whole idea of training is for a model to move from some unknown parameters (these my be random) to some known parameters.\n",
        "\n",
        "Or in other words from a poor representation of the data to a better representation of the data.\n",
        "\n",
        "One way to measure how poor or how wrong models predictions are is to use a loss function.\n",
        "\n",
        "**Note** : Loss function may also be called cost function or criterion in different areas.\n",
        "\n",
        "Things we need to train:\n",
        "\n",
        "**Loss Function** : A function to measure how wrong your model's predictions are to the ideal outputs, lower is better.\n",
        "\n",
        "**Optimizer** : Takes into account the loss of a model and adjust the model's parameters (weights & bias)"
      ],
      "metadata": {
        "id": "QrU0uuEpm7Ep"
      }
    },
    {
      "cell_type": "code",
      "source": [
        "# Set up a loss function\n",
        "loss_fn = nn.L1Loss()\n",
        "\n",
        "# Setup a optimizer\n",
        "optimizer = torch.optim.SGD(params=model_0.parameters(),\n",
        "                            lr = 0.01) # Learning rate"
      ],
      "metadata": {
        "id": "XgMdKgI-oWrk"
      },
      "execution_count": 11,
      "outputs": []
    }
  ]
}